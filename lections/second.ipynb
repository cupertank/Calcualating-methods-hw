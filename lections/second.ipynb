{
 "cells": [
  {
   "cell_type": "markdown",
   "metadata": {
    "collapsed": true,
    "pycharm": {
     "name": "#%% md\n"
    }
   },
   "source": [
    "# Задача 2\n",
    "# Вариант 7"
   ]
  },
  {
   "cell_type": "markdown",
   "source": [
    "Условие задачи\n",
    "\n",
    "$ -u'' + u = 2x $\n",
    "\n",
    "$u(0) = u(1) = 5$"
   ],
   "metadata": {
    "collapsed": false,
    "pycharm": {
     "name": "#%% md\n"
    }
   }
  },
  {
   "cell_type": "markdown",
   "source": [
    "Решение\n",
    "\n",
    "$domA = \\{u \\in C^2[0, 1]: u(0) = u(1) = 5$\n",
    "\n",
    "$H_A = L_2(0,1), domA \\subset H_A \\subset H$\n",
    "\n",
    "$F = L_2(0,1), f(x) = 2x$\n",
    "\n",
    "$U_n = \\langle w_1, \\ldots,w_n\\rangle \\subset H_A$\n",
    "\n",
    "$F_n = \\mathbb{R}^n$\n",
    "\n",
    "$A: domA \\rightarrow L_2(0,1) \\quad Au = -u'' + u$\n",
    "\n",
    "$A_n: \\mathbb{R}^n \\rightarrow \\mathbb{R}^n \\quad A_n = [w_i, w_j]^n_{i,j=1}$\n",
    "\n",
    "$\\varphi_n : H_A \\rightarrow \\langle w_1, \\ldots, w_n \\rangle \\quad \\varphi_n u_n = (c_1, \\ldots, c_n)$\n",
    "\n",
    "$\\overline\\varphi_n : \\mathbb{R}^n \\rightarrow L_2(0,1) \\quad \\overline\\varphi_nu_n = \\sum_{i=1}^{n} c_iw_i$\n",
    "\n",
    "$\\psi : L_2(0,1) \\rightarrow \\mathbb{R}^n \\quad \\psi_nf = ((f,w_1),\\ldots,(f,w_m))$\n",
    "\n",
    "$H = \\{u: u(0) = u(1) = 5, u'\\in L_2(0,1)\\}$"
   ],
   "metadata": {
    "collapsed": false,
    "pycharm": {
     "name": "#%% md\n"
    }
   }
  }
 ],
 "metadata": {
  "kernelspec": {
   "display_name": "Python 3",
   "language": "python",
   "name": "python3"
  },
  "language_info": {
   "codemirror_mode": {
    "name": "ipython",
    "version": 2
   },
   "file_extension": ".py",
   "mimetype": "text/x-python",
   "name": "python",
   "nbconvert_exporter": "python",
   "pygments_lexer": "ipython2",
   "version": "2.7.6"
  }
 },
 "nbformat": 4,
 "nbformat_minor": 0
}