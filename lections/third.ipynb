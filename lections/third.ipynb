{
 "cells": [
  {
   "cell_type": "markdown",
   "source": [
    "# Задача 3\n",
    "# Вариант 7"
   ],
   "metadata": {
    "collapsed": false,
    "pycharm": {
     "name": "#%% md\n"
    }
   }
  },
  {
   "cell_type": "markdown",
   "source": [
    "Условия задания\n",
    "\n",
    "$ K(x,s) = exp(-xs)$\n",
    "\n",
    "При $z(x) = 1$\n",
    "\n",
    "$u(x) = \\frac{1 - exp(-x)}{x}$"
   ],
   "metadata": {
    "collapsed": false,
    "pycharm": {
     "name": "#%% md\n"
    }
   }
  },
  {
   "cell_type": "markdown",
   "source": [
    "Входные параметры"
   ],
   "metadata": {
    "collapsed": false,
    "pycharm": {
     "name": "#%% md\n"
    }
   }
  },
  {
   "cell_type": "code",
   "execution_count": 1,
   "metadata": {
    "collapsed": true
   },
   "outputs": [],
   "source": [
    "import numpy as np\n",
    "import math\n",
    "from pandas import DataFrame\n",
    "\n",
    "def K(x, s):\n",
    "    return math.exp(-x * s)\n",
    "\n",
    "def z(s):\n",
    "    return 1\n",
    "\n",
    "def u(x):\n",
    "    return (1 - math.exp(-x)) / x\n",
    "\n",
    "N = [10 * i for i in range(1, 11)]\n",
    "Alpha = [0.1 ** i for i in range(5, 16)]\n",
    "a = 0\n",
    "b = 1"
   ]
  },
  {
   "cell_type": "markdown",
   "source": [
    "Функция подсчёта коэффициентов метода трапеций"
   ],
   "metadata": {
    "collapsed": false,
    "pycharm": {
     "name": "#%% md\n"
    }
   }
  },
  {
   "cell_type": "code",
   "execution_count": 2,
   "outputs": [],
   "source": [
    "def trapezoidal_method_coeffs(n: int, a, b):\n",
    "    h = (b - a) / n\n",
    "    X = [a + h * i for i in range(1, n + 1)]\n",
    "    A = []\n",
    "    for x in range(1, n):\n",
    "        A.append(h)\n",
    "    A.append(h / 2)\n",
    "\n",
    "    return X, A"
   ],
   "metadata": {
    "collapsed": false,
    "pycharm": {
     "name": "#%%\n"
    }
   }
  },
  {
   "cell_type": "markdown",
   "source": [
    "Подсчёт $||Z_n^{\\alpha} - Z_0||$ для $n = \\{10i\\}_{i=1}^1$, $\\alpha = \\{10^{-i}\\}_{i=5}^{15}$, где $Z_0 = (1,\\ldots,1)$"
   ],
   "metadata": {
    "collapsed": false,
    "pycharm": {
     "name": "#%% md\n"
    }
   }
  },
  {
   "cell_type": "code",
   "execution_count": 3,
   "outputs": [],
   "source": [
    "table = []\n",
    "for n in N:\n",
    "    row = []\n",
    "    X, A = trapezoidal_method_coeffs(n, a, b)\n",
    "    C = np.array([[A[k] * K(X[j], X[k]) for k in range(n)]for j in range(n)])\n",
    "    U = np.array([u(x) for x in X]).reshape(n, 1)\n",
    "    C_conj = np.conj(C)\n",
    "\n",
    "    Z = np.array([1.0 for i in range(n)]).reshape(n, 1)\n",
    "    for alpha in Alpha:\n",
    "        Z_kek = np.linalg.solve(C_conj.dot(C) + alpha * np.eye(n), C_conj.dot(U))\n",
    "        delta = np.linalg.norm(Z - Z_kek)\n",
    "        row.append(delta)\n",
    "\n",
    "    table.append(row)"
   ],
   "metadata": {
    "collapsed": false,
    "pycharm": {
     "name": "#%%\n"
    }
   }
  },
  {
   "cell_type": "markdown",
   "source": [
    "Вывод таблицы"
   ],
   "metadata": {
    "collapsed": false,
    "pycharm": {
     "name": "#%% md\n"
    }
   }
  },
  {
   "cell_type": "code",
   "execution_count": 4,
   "outputs": [
    {
     "data": {
      "text/plain": "     1.000000e-05  1.000000e-06  1.000000e-07  1.000000e-08  1.000000e-09  \\\n10       0.410168      0.525881      0.613744      0.625367      0.745356   \n20       0.273074      0.348001      0.391801      0.399337      0.469878   \n30       0.218294      0.277348      0.309983      0.316344      0.369043   \n40       0.186808      0.236880      0.264336      0.270025      0.313512   \n50       0.165778      0.209807      0.234243      0.239480      0.277227   \n60       0.150515      0.190047      0.212497      0.217403      0.251169   \n70       0.138842      0.174792      0.195836      0.200489      0.231298   \n80       0.129588      0.162546      0.182543      0.186997      0.215501   \n90       0.122062      0.152427      0.171617      0.175909      0.202556   \n100      0.115823      0.143878      0.162429      0.166587      0.191697   \n\n     1.000000e-10  1.000000e-11  1.000000e-12  1.000000e-13  1.000000e-14  \\\n10       0.997410      1.053109      1.058911      1.257954      1.470183   \n20       0.566355      0.583909      0.592428      0.687079      0.745107   \n30       0.431808      0.442763      0.451528      0.519752      0.556506   \n40       0.361812      0.370118      0.378566      0.434410      0.463769   \n50       0.317408      0.324274      0.332278      0.380318      0.404977   \n60       0.286092      0.292039      0.299636      0.342685      0.364231   \n70       0.262503      0.267807      0.275044      0.314383      0.336863   \n80       0.243915      0.248740      0.255650      0.292048      0.313909   \n90       0.228782      0.233233      0.239841      0.273966      0.296057   \n100      0.216154      0.220302      0.226652      0.258704      0.281052   \n\n     1.000000e-15  \n10       1.511701  \n20       0.778085  \n30       0.611049  \n40       0.633809  \n50       0.659068  \n60       0.548294  \n70       0.639333  \n80       0.665949  \n90       0.880727  \n100      0.708133  ",
      "text/html": "<div>\n<style scoped>\n    .dataframe tbody tr th:only-of-type {\n        vertical-align: middle;\n    }\n\n    .dataframe tbody tr th {\n        vertical-align: top;\n    }\n\n    .dataframe thead th {\n        text-align: right;\n    }\n</style>\n<table border=\"1\" class=\"dataframe\">\n  <thead>\n    <tr style=\"text-align: right;\">\n      <th></th>\n      <th>1.000000e-05</th>\n      <th>1.000000e-06</th>\n      <th>1.000000e-07</th>\n      <th>1.000000e-08</th>\n      <th>1.000000e-09</th>\n      <th>1.000000e-10</th>\n      <th>1.000000e-11</th>\n      <th>1.000000e-12</th>\n      <th>1.000000e-13</th>\n      <th>1.000000e-14</th>\n      <th>1.000000e-15</th>\n    </tr>\n  </thead>\n  <tbody>\n    <tr>\n      <th>10</th>\n      <td>0.410168</td>\n      <td>0.525881</td>\n      <td>0.613744</td>\n      <td>0.625367</td>\n      <td>0.745356</td>\n      <td>0.997410</td>\n      <td>1.053109</td>\n      <td>1.058911</td>\n      <td>1.257954</td>\n      <td>1.470183</td>\n      <td>1.511701</td>\n    </tr>\n    <tr>\n      <th>20</th>\n      <td>0.273074</td>\n      <td>0.348001</td>\n      <td>0.391801</td>\n      <td>0.399337</td>\n      <td>0.469878</td>\n      <td>0.566355</td>\n      <td>0.583909</td>\n      <td>0.592428</td>\n      <td>0.687079</td>\n      <td>0.745107</td>\n      <td>0.778085</td>\n    </tr>\n    <tr>\n      <th>30</th>\n      <td>0.218294</td>\n      <td>0.277348</td>\n      <td>0.309983</td>\n      <td>0.316344</td>\n      <td>0.369043</td>\n      <td>0.431808</td>\n      <td>0.442763</td>\n      <td>0.451528</td>\n      <td>0.519752</td>\n      <td>0.556506</td>\n      <td>0.611049</td>\n    </tr>\n    <tr>\n      <th>40</th>\n      <td>0.186808</td>\n      <td>0.236880</td>\n      <td>0.264336</td>\n      <td>0.270025</td>\n      <td>0.313512</td>\n      <td>0.361812</td>\n      <td>0.370118</td>\n      <td>0.378566</td>\n      <td>0.434410</td>\n      <td>0.463769</td>\n      <td>0.633809</td>\n    </tr>\n    <tr>\n      <th>50</th>\n      <td>0.165778</td>\n      <td>0.209807</td>\n      <td>0.234243</td>\n      <td>0.239480</td>\n      <td>0.277227</td>\n      <td>0.317408</td>\n      <td>0.324274</td>\n      <td>0.332278</td>\n      <td>0.380318</td>\n      <td>0.404977</td>\n      <td>0.659068</td>\n    </tr>\n    <tr>\n      <th>60</th>\n      <td>0.150515</td>\n      <td>0.190047</td>\n      <td>0.212497</td>\n      <td>0.217403</td>\n      <td>0.251169</td>\n      <td>0.286092</td>\n      <td>0.292039</td>\n      <td>0.299636</td>\n      <td>0.342685</td>\n      <td>0.364231</td>\n      <td>0.548294</td>\n    </tr>\n    <tr>\n      <th>70</th>\n      <td>0.138842</td>\n      <td>0.174792</td>\n      <td>0.195836</td>\n      <td>0.200489</td>\n      <td>0.231298</td>\n      <td>0.262503</td>\n      <td>0.267807</td>\n      <td>0.275044</td>\n      <td>0.314383</td>\n      <td>0.336863</td>\n      <td>0.639333</td>\n    </tr>\n    <tr>\n      <th>80</th>\n      <td>0.129588</td>\n      <td>0.162546</td>\n      <td>0.182543</td>\n      <td>0.186997</td>\n      <td>0.215501</td>\n      <td>0.243915</td>\n      <td>0.248740</td>\n      <td>0.255650</td>\n      <td>0.292048</td>\n      <td>0.313909</td>\n      <td>0.665949</td>\n    </tr>\n    <tr>\n      <th>90</th>\n      <td>0.122062</td>\n      <td>0.152427</td>\n      <td>0.171617</td>\n      <td>0.175909</td>\n      <td>0.202556</td>\n      <td>0.228782</td>\n      <td>0.233233</td>\n      <td>0.239841</td>\n      <td>0.273966</td>\n      <td>0.296057</td>\n      <td>0.880727</td>\n    </tr>\n    <tr>\n      <th>100</th>\n      <td>0.115823</td>\n      <td>0.143878</td>\n      <td>0.162429</td>\n      <td>0.166587</td>\n      <td>0.191697</td>\n      <td>0.216154</td>\n      <td>0.220302</td>\n      <td>0.226652</td>\n      <td>0.258704</td>\n      <td>0.281052</td>\n      <td>0.708133</td>\n    </tr>\n  </tbody>\n</table>\n</div>"
     },
     "execution_count": 4,
     "metadata": {},
     "output_type": "execute_result"
    }
   ],
   "source": [
    "df = DataFrame(table, columns=Alpha, index=N)\n",
    "df"
   ],
   "metadata": {
    "collapsed": false,
    "pycharm": {
     "name": "#%%\n"
    }
   }
  },
  {
   "cell_type": "markdown",
   "source": [
    "Подсчёт оптимальных $n$ и $\\alpha$"
   ],
   "metadata": {
    "collapsed": false,
    "pycharm": {
     "name": "#%% md\n"
    }
   }
  },
  {
   "cell_type": "code",
   "execution_count": 5,
   "outputs": [
    {
     "name": "stdout",
     "output_type": "stream",
     "text": [
      "Optimal n = 100\n",
      "Optimal alpha = 1.0000000000000003e-05\n"
     ]
    }
   ],
   "source": [
    "table = np.array(table)\n",
    "i, j = np.unravel_index(table.argmin(), table.shape)\n",
    "\n",
    "optimal_n = N[i]\n",
    "optimal_alpha = Alpha[j]\n",
    "\n",
    "print(f\"Optimal n = {optimal_n}\")\n",
    "print(f\"Optimal alpha = {optimal_alpha}\")"
   ],
   "metadata": {
    "collapsed": false,
    "pycharm": {
     "name": "#%%\n"
    }
   }
  }
 ],
 "metadata": {
  "kernelspec": {
   "display_name": "Python 3",
   "language": "python",
   "name": "python3"
  },
  "language_info": {
   "codemirror_mode": {
    "name": "ipython",
    "version": 2
   },
   "file_extension": ".py",
   "mimetype": "text/x-python",
   "name": "python",
   "nbconvert_exporter": "python",
   "pygments_lexer": "ipython2",
   "version": "2.7.6"
  }
 },
 "nbformat": 4,
 "nbformat_minor": 0
}