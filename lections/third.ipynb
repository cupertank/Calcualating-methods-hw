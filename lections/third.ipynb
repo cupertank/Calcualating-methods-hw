{
 "cells": [
  {
   "cell_type": "markdown",
   "metadata": {
    "pycharm": {
     "name": "#%% md\n"
    }
   },
   "source": [
    "# Задача 3\n",
    "# Вариант 7"
   ]
  },
  {
   "cell_type": "markdown",
   "metadata": {
    "pycharm": {
     "name": "#%% md\n"
    }
   },
   "source": [
    "Условия задания\n",
    "\n",
    "$ K(x,s) = exp(-xs)$\n",
    "\n",
    "При $z(x) = 1$\n",
    "\n",
    "$u(x) = \\frac{1 - exp(-x)}{x}$"
   ]
  },
  {
   "cell_type": "markdown",
   "metadata": {
    "pycharm": {
     "name": "#%% md\n"
    }
   },
   "source": [
    "Входные параметры"
   ]
  },
  {
   "cell_type": "code",
   "execution_count": 1,
   "metadata": {
    "collapsed": true
   },
   "outputs": [],
   "source": [
    "import numpy as np\n",
    "import math\n",
    "from pandas import DataFrame\n",
    "\n",
    "def K(x, s):\n",
    "    return math.exp(-x * s)\n",
    "\n",
    "def z(s):\n",
    "    return 1\n",
    "\n",
    "def u(x):\n",
    "    return (1 - math.exp(-x)) / x\n",
    "\n",
    "N = [10 * i for i in range(1, 11)]\n",
    "Alpha = [10 ** (-i) for i in range(5, 16)]\n",
    "a = 0\n",
    "b = 1"
   ]
  },
  {
   "cell_type": "markdown",
   "metadata": {
    "pycharm": {
     "name": "#%% md\n"
    }
   },
   "source": [
    "Функция подсчёта коэффициентов метода трапеций"
   ]
  },
  {
   "cell_type": "code",
   "execution_count": 2,
   "metadata": {
    "pycharm": {
     "name": "#%%\n"
    }
   },
   "outputs": [],
   "source": [
    "def right_rectangle_method_coeffs(n: int, a, b):\n",
    "    h = (b - a) / n\n",
    "    X = [a + h * i for i in range(1, n + 1)]\n",
    "    A = []\n",
    "    for x in range(1, n + 1):\n",
    "        A.append(h)\n",
    "\n",
    "    return X, A"
   ]
  },
  {
   "cell_type": "markdown",
   "metadata": {
    "pycharm": {
     "name": "#%% md\n"
    }
   },
   "source": [
    "Подсчёт $||Z_n^{\\alpha} - Z_0||$ для $n = \\{10i\\}_{i=1}^1$, $\\alpha = \\{10^{-i}\\}_{i=5}^{15}$, где $Z_0 = (1,\\ldots,1)$"
   ]
  },
  {
   "cell_type": "code",
   "execution_count": 3,
   "metadata": {
    "pycharm": {
     "name": "#%%\n"
    }
   },
   "outputs": [],
   "source": [
    "table = []\n",
    "for n in N:\n",
    "    row = []\n",
    "    X, A = right_rectangle_method_coeffs(n, a, b)\n",
    "    C = np.array([[A[k] * K(X[j], X[k]) for k in range(n)]for j in range(n)])\n",
    "    U = np.array([u(x) for x in X]).reshape(n, 1)\n",
    "    C_conj = np.conj(C)\n",
    "\n",
    "    Z = np.array([1.0 for i in range(n)]).reshape(n, 1)\n",
    "    for alpha in Alpha:\n",
    "        Z_kek = np.linalg.solve(C_conj.dot(C) + alpha * np.eye(n), C_conj.dot(U))\n",
    "        delta = np.linalg.norm(Z - Z_kek)\n",
    "        row.append(delta)\n",
    "\n",
    "    table.append(row)"
   ]
  },
  {
   "cell_type": "markdown",
   "metadata": {
    "pycharm": {
     "name": "#%% md\n"
    }
   },
   "source": [
    "Вывод таблицы"
   ]
  },
  {
   "cell_type": "code",
   "execution_count": 4,
   "metadata": {
    "pycharm": {
     "name": "#%%\n"
    }
   },
   "outputs": [
    {
     "data": {
      "text/plain": "     1.000000e-05  1.000000e-06  1.000000e-07  1.000000e-08  1.000000e-09  \\\n10       0.575056      0.594273      0.606221      0.621631      0.862341   \n20       0.397294      0.401363      0.404500      0.417378      0.580601   \n30       0.322827      0.323880      0.325631      0.336557      0.467832   \n40       0.279403      0.279038      0.280279      0.289906      0.402837   \n50       0.250199      0.248864      0.249842      0.258546      0.359188   \n60       0.228905      0.226776      0.227588      0.235598      0.327265   \n70       0.212551      0.209704      0.210398      0.217863      0.302602   \n80       0.199526      0.195999      0.196601      0.203624      0.282805   \n90       0.188873      0.184684      0.185208      0.191865      0.266457   \n100      0.179982      0.175137      0.175594      0.181940      0.252661   \n\n     1.000000e-10  1.000000e-11  1.000000e-12  1.000000e-13  1.000000e-14  \\\n10       1.143875      1.195468      1.215216      1.370416      1.491038   \n20       0.726429      0.750254      0.757263      0.784854      0.798768   \n30       0.578862      0.596591      0.600352      0.610825      0.616895   \n40       0.496306      0.511099      0.513674      0.519161      0.523367   \n50       0.441549      0.454523      0.456513      0.459863      0.463922   \n60       0.401762      0.413466      0.415129      0.417451      0.420401   \n70       0.371145      0.381894      0.383339      0.385061      0.389913   \n80       0.346632      0.356628      0.357922      0.359278      0.364267   \n90       0.326426      0.335809      0.336985      0.338128      0.347980   \n100      0.309395      0.318266      0.319359      0.320319      0.330045   \n\n     1.000000e-15  \n10       1.515057  \n20       0.822103  \n30       0.726642  \n40       0.643423  \n50       0.675337  \n60       0.589074  \n70       0.729589  \n80       0.724404  \n90       0.831093  \n100      0.797741  ",
      "text/html": "<div>\n<style scoped>\n    .dataframe tbody tr th:only-of-type {\n        vertical-align: middle;\n    }\n\n    .dataframe tbody tr th {\n        vertical-align: top;\n    }\n\n    .dataframe thead th {\n        text-align: right;\n    }\n</style>\n<table border=\"1\" class=\"dataframe\">\n  <thead>\n    <tr style=\"text-align: right;\">\n      <th></th>\n      <th>1.000000e-05</th>\n      <th>1.000000e-06</th>\n      <th>1.000000e-07</th>\n      <th>1.000000e-08</th>\n      <th>1.000000e-09</th>\n      <th>1.000000e-10</th>\n      <th>1.000000e-11</th>\n      <th>1.000000e-12</th>\n      <th>1.000000e-13</th>\n      <th>1.000000e-14</th>\n      <th>1.000000e-15</th>\n    </tr>\n  </thead>\n  <tbody>\n    <tr>\n      <th>10</th>\n      <td>0.575056</td>\n      <td>0.594273</td>\n      <td>0.606221</td>\n      <td>0.621631</td>\n      <td>0.862341</td>\n      <td>1.143875</td>\n      <td>1.195468</td>\n      <td>1.215216</td>\n      <td>1.370416</td>\n      <td>1.491038</td>\n      <td>1.515057</td>\n    </tr>\n    <tr>\n      <th>20</th>\n      <td>0.397294</td>\n      <td>0.401363</td>\n      <td>0.404500</td>\n      <td>0.417378</td>\n      <td>0.580601</td>\n      <td>0.726429</td>\n      <td>0.750254</td>\n      <td>0.757263</td>\n      <td>0.784854</td>\n      <td>0.798768</td>\n      <td>0.822103</td>\n    </tr>\n    <tr>\n      <th>30</th>\n      <td>0.322827</td>\n      <td>0.323880</td>\n      <td>0.325631</td>\n      <td>0.336557</td>\n      <td>0.467832</td>\n      <td>0.578862</td>\n      <td>0.596591</td>\n      <td>0.600352</td>\n      <td>0.610825</td>\n      <td>0.616895</td>\n      <td>0.726642</td>\n    </tr>\n    <tr>\n      <th>40</th>\n      <td>0.279403</td>\n      <td>0.279038</td>\n      <td>0.280279</td>\n      <td>0.289906</td>\n      <td>0.402837</td>\n      <td>0.496306</td>\n      <td>0.511099</td>\n      <td>0.513674</td>\n      <td>0.519161</td>\n      <td>0.523367</td>\n      <td>0.643423</td>\n    </tr>\n    <tr>\n      <th>50</th>\n      <td>0.250199</td>\n      <td>0.248864</td>\n      <td>0.249842</td>\n      <td>0.258546</td>\n      <td>0.359188</td>\n      <td>0.441549</td>\n      <td>0.454523</td>\n      <td>0.456513</td>\n      <td>0.459863</td>\n      <td>0.463922</td>\n      <td>0.675337</td>\n    </tr>\n    <tr>\n      <th>60</th>\n      <td>0.228905</td>\n      <td>0.226776</td>\n      <td>0.227588</td>\n      <td>0.235598</td>\n      <td>0.327265</td>\n      <td>0.401762</td>\n      <td>0.413466</td>\n      <td>0.415129</td>\n      <td>0.417451</td>\n      <td>0.420401</td>\n      <td>0.589074</td>\n    </tr>\n    <tr>\n      <th>70</th>\n      <td>0.212551</td>\n      <td>0.209704</td>\n      <td>0.210398</td>\n      <td>0.217863</td>\n      <td>0.302602</td>\n      <td>0.371145</td>\n      <td>0.381894</td>\n      <td>0.383339</td>\n      <td>0.385061</td>\n      <td>0.389913</td>\n      <td>0.729589</td>\n    </tr>\n    <tr>\n      <th>80</th>\n      <td>0.199526</td>\n      <td>0.195999</td>\n      <td>0.196601</td>\n      <td>0.203624</td>\n      <td>0.282805</td>\n      <td>0.346632</td>\n      <td>0.356628</td>\n      <td>0.357922</td>\n      <td>0.359278</td>\n      <td>0.364267</td>\n      <td>0.724404</td>\n    </tr>\n    <tr>\n      <th>90</th>\n      <td>0.188873</td>\n      <td>0.184684</td>\n      <td>0.185208</td>\n      <td>0.191865</td>\n      <td>0.266457</td>\n      <td>0.326426</td>\n      <td>0.335809</td>\n      <td>0.336985</td>\n      <td>0.338128</td>\n      <td>0.347980</td>\n      <td>0.831093</td>\n    </tr>\n    <tr>\n      <th>100</th>\n      <td>0.179982</td>\n      <td>0.175137</td>\n      <td>0.175594</td>\n      <td>0.181940</td>\n      <td>0.252661</td>\n      <td>0.309395</td>\n      <td>0.318266</td>\n      <td>0.319359</td>\n      <td>0.320319</td>\n      <td>0.330045</td>\n      <td>0.797741</td>\n    </tr>\n  </tbody>\n</table>\n</div>"
     },
     "execution_count": 4,
     "metadata": {},
     "output_type": "execute_result"
    }
   ],
   "source": [
    "df = DataFrame(table, columns=Alpha, index=N)\n",
    "df"
   ]
  },
  {
   "cell_type": "markdown",
   "metadata": {
    "pycharm": {
     "name": "#%% md\n"
    }
   },
   "source": [
    "Подсчёт оптимальных $n$ и $\\alpha$"
   ]
  },
  {
   "cell_type": "code",
   "execution_count": 5,
   "metadata": {
    "pycharm": {
     "name": "#%%\n"
    }
   },
   "outputs": [
    {
     "name": "stdout",
     "output_type": "stream",
     "text": [
      "Optimal n = 100\n",
      "Optimal alpha = 1e-06\n"
     ]
    }
   ],
   "source": [
    "table = np.array(table)\n",
    "i, j = np.unravel_index(table.argmin(), table.shape)\n",
    "\n",
    "optimal_n = N[i]\n",
    "optimal_alpha = Alpha[j]\n",
    "\n",
    "print(f\"Optimal n = {optimal_n}\")\n",
    "print(f\"Optimal alpha = {optimal_alpha}\")"
   ]
  }
 ],
 "metadata": {
  "kernelspec": {
   "display_name": "Python 3",
   "language": "python",
   "name": "python3"
  },
  "language_info": {
   "codemirror_mode": {
    "name": "ipython",
    "version": 3
   },
   "file_extension": ".py",
   "mimetype": "text/x-python",
   "name": "python",
   "nbconvert_exporter": "python",
   "pygments_lexer": "ipython3",
   "version": "3.8.2"
  }
 },
 "nbformat": 4,
 "nbformat_minor": 1
}