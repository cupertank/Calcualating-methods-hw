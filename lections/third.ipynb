{
 "cells": [
  {
   "cell_type": "markdown",
   "metadata": {
    "pycharm": {
     "name": "#%% md\n"
    }
   },
   "source": [
    "# Задача 3\n",
    "# Вариант 7"
   ]
  },
  {
   "cell_type": "markdown",
   "metadata": {
    "pycharm": {
     "name": "#%% md\n"
    }
   },
   "source": [
    "Условия задания\n",
    "\n",
    "$ K(x,s) = exp(-xs)$\n",
    "\n",
    "При $z(x) = 1$\n",
    "\n",
    "$u(x) = \\frac{1 - exp(-x)}{x}$"
   ]
  },
  {
   "cell_type": "markdown",
   "metadata": {
    "pycharm": {
     "name": "#%% md\n"
    }
   },
   "source": [
    "Входные параметры"
   ]
  },
  {
   "cell_type": "code",
   "execution_count": 1,
   "metadata": {
    "collapsed": true
   },
   "outputs": [],
   "source": [
    "import numpy as np\n",
    "import math\n",
    "from pandas import DataFrame\n",
    "\n",
    "def K(x, s):\n",
    "    return math.exp(-x * s)\n",
    "\n",
    "def z(s):\n",
    "    return 1.0\n",
    "\n",
    "def u(x):\n",
    "    return (1 - math.exp(-x)) / x\n",
    "\n",
    "# def z(x):\n",
    "#     return x\n",
    "#\n",
    "# def u(x):\n",
    "#     return (1 - math.exp(-x) * (x + 1)) / (x ** 2)\n",
    "\n",
    "N = [10 * i for i in range(1, 11)]\n",
    "Alpha = [10 ** (-i) for i in range(5, 13)]\n",
    "a = 0\n",
    "b = 1"
   ]
  },
  {
   "cell_type": "markdown",
   "metadata": {
    "pycharm": {
     "name": "#%% md\n"
    }
   },
   "source": [
    "Подсчёт $||Z_n^{\\alpha} - Z_0||$ для $n = \\{10i\\}_{i=1}^1$, $\\alpha = \\{10^{-i}\\}_{i=5}^{15}$, где $Z_0 = (1,\\ldots,1)$"
   ]
  },
  {
   "cell_type": "code",
   "execution_count": 2,
   "metadata": {
    "pycharm": {
     "name": "#%%\n"
    }
   },
   "outputs": [],
   "source": [
    "table = []\n",
    "for n in N:\n",
    "    row = []\n",
    "    h = (b - a) / n\n",
    "    X  = np.linspace(a + h, b, n)\n",
    "    C = np.array([[K(X[j], X[k]) for k in range(n)]for j in range(n)])\n",
    "    U = np.array([u(x) for x in X]).reshape(n, 1)\n",
    "    C_conj = np.conj(C)\n",
    "\n",
    "    Z = np.array([1.0 for i in range(n)]).reshape(n, 1)\n",
    "    for alpha in Alpha:\n",
    "        Z_kek = np.linalg.solve(C_conj.dot(C) + alpha * np.eye(n), C_conj.dot(U)) / h\n",
    "        delta =  np.average(np.abs(Z - Z_kek))\n",
    "        row.append(delta)\n",
    "\n",
    "    table.append(row)"
   ]
  },
  {
   "cell_type": "markdown",
   "metadata": {
    "pycharm": {
     "name": "#%% md\n"
    }
   },
   "source": [
    "Вывод таблицы"
   ]
  },
  {
   "cell_type": "code",
   "execution_count": 3,
   "metadata": {
    "pycharm": {
     "name": "#%%\n"
    }
   },
   "outputs": [
    {
     "data": {
      "text/plain": "     1.000000e-05  1.000000e-06  1.000000e-07  1.000000e-08  1.000000e-09  \\\n10       0.158158      0.152846      0.186125      0.266187      0.278659   \n20       0.073753      0.068209      0.108417      0.119575      0.120644   \n30       0.046576      0.054269      0.073969      0.077021      0.077379   \n40       0.033237      0.045805      0.055785      0.057176      0.057449   \n50       0.025771      0.039092      0.044847      0.045492      0.045620   \n60       0.021666      0.033913      0.037372      0.037729      0.037891   \n70       0.019730      0.029767      0.032054      0.032285      0.032374   \n80       0.018416      0.026496      0.028044      0.028185      0.028264   \n90       0.017349      0.023822      0.024923      0.025021      0.025073   \n100      0.016417      0.021620      0.022426      0.022490      0.022439   \n\n     1.000000e-10  1.000000e-11  1.000000e-12  \n10       0.284528      0.339471      0.381259  \n20       0.123169      0.126373      0.122168  \n30       0.079023      0.080071      0.093312  \n40       0.058017      0.058145      0.078421  \n50       0.045985      0.049225      0.134297  \n60       0.038088      0.041875      0.192762  \n70       0.032196      0.049276      0.312057  \n80       0.028430      0.042640      0.358244  \n90       0.025446      0.054359      0.510933  \n100      0.022202      0.056919      0.551915  ",
      "text/html": "<div>\n<style scoped>\n    .dataframe tbody tr th:only-of-type {\n        vertical-align: middle;\n    }\n\n    .dataframe tbody tr th {\n        vertical-align: top;\n    }\n\n    .dataframe thead th {\n        text-align: right;\n    }\n</style>\n<table border=\"1\" class=\"dataframe\">\n  <thead>\n    <tr style=\"text-align: right;\">\n      <th></th>\n      <th>1.000000e-05</th>\n      <th>1.000000e-06</th>\n      <th>1.000000e-07</th>\n      <th>1.000000e-08</th>\n      <th>1.000000e-09</th>\n      <th>1.000000e-10</th>\n      <th>1.000000e-11</th>\n      <th>1.000000e-12</th>\n    </tr>\n  </thead>\n  <tbody>\n    <tr>\n      <th>10</th>\n      <td>0.158158</td>\n      <td>0.152846</td>\n      <td>0.186125</td>\n      <td>0.266187</td>\n      <td>0.278659</td>\n      <td>0.284528</td>\n      <td>0.339471</td>\n      <td>0.381259</td>\n    </tr>\n    <tr>\n      <th>20</th>\n      <td>0.073753</td>\n      <td>0.068209</td>\n      <td>0.108417</td>\n      <td>0.119575</td>\n      <td>0.120644</td>\n      <td>0.123169</td>\n      <td>0.126373</td>\n      <td>0.122168</td>\n    </tr>\n    <tr>\n      <th>30</th>\n      <td>0.046576</td>\n      <td>0.054269</td>\n      <td>0.073969</td>\n      <td>0.077021</td>\n      <td>0.077379</td>\n      <td>0.079023</td>\n      <td>0.080071</td>\n      <td>0.093312</td>\n    </tr>\n    <tr>\n      <th>40</th>\n      <td>0.033237</td>\n      <td>0.045805</td>\n      <td>0.055785</td>\n      <td>0.057176</td>\n      <td>0.057449</td>\n      <td>0.058017</td>\n      <td>0.058145</td>\n      <td>0.078421</td>\n    </tr>\n    <tr>\n      <th>50</th>\n      <td>0.025771</td>\n      <td>0.039092</td>\n      <td>0.044847</td>\n      <td>0.045492</td>\n      <td>0.045620</td>\n      <td>0.045985</td>\n      <td>0.049225</td>\n      <td>0.134297</td>\n    </tr>\n    <tr>\n      <th>60</th>\n      <td>0.021666</td>\n      <td>0.033913</td>\n      <td>0.037372</td>\n      <td>0.037729</td>\n      <td>0.037891</td>\n      <td>0.038088</td>\n      <td>0.041875</td>\n      <td>0.192762</td>\n    </tr>\n    <tr>\n      <th>70</th>\n      <td>0.019730</td>\n      <td>0.029767</td>\n      <td>0.032054</td>\n      <td>0.032285</td>\n      <td>0.032374</td>\n      <td>0.032196</td>\n      <td>0.049276</td>\n      <td>0.312057</td>\n    </tr>\n    <tr>\n      <th>80</th>\n      <td>0.018416</td>\n      <td>0.026496</td>\n      <td>0.028044</td>\n      <td>0.028185</td>\n      <td>0.028264</td>\n      <td>0.028430</td>\n      <td>0.042640</td>\n      <td>0.358244</td>\n    </tr>\n    <tr>\n      <th>90</th>\n      <td>0.017349</td>\n      <td>0.023822</td>\n      <td>0.024923</td>\n      <td>0.025021</td>\n      <td>0.025073</td>\n      <td>0.025446</td>\n      <td>0.054359</td>\n      <td>0.510933</td>\n    </tr>\n    <tr>\n      <th>100</th>\n      <td>0.016417</td>\n      <td>0.021620</td>\n      <td>0.022426</td>\n      <td>0.022490</td>\n      <td>0.022439</td>\n      <td>0.022202</td>\n      <td>0.056919</td>\n      <td>0.551915</td>\n    </tr>\n  </tbody>\n</table>\n</div>"
     },
     "execution_count": 3,
     "metadata": {},
     "output_type": "execute_result"
    }
   ],
   "source": [
    "df = DataFrame(table, columns=Alpha, index=N)\n",
    "df"
   ]
  },
  {
   "cell_type": "markdown",
   "metadata": {
    "pycharm": {
     "name": "#%% md\n"
    }
   },
   "source": [
    "Подсчёт оптимальных $n$ и $\\alpha$"
   ]
  },
  {
   "cell_type": "code",
   "execution_count": 4,
   "metadata": {
    "pycharm": {
     "name": "#%%\n"
    }
   },
   "outputs": [
    {
     "name": "stdout",
     "output_type": "stream",
     "text": [
      "Optimal n = 100\n",
      "Optimal alpha = 1e-05\n"
     ]
    }
   ],
   "source": [
    "table = np.array(table)\n",
    "i, j = np.unravel_index(table.argmin(), table.shape)\n",
    "\n",
    "optimal_n = N[i]\n",
    "optimal_alpha = Alpha[j]\n",
    "\n",
    "print(f\"Optimal n = {optimal_n}\")\n",
    "print(f\"Optimal alpha = {optimal_alpha}\")"
   ]
  }
 ],
 "metadata": {
  "kernelspec": {
   "display_name": "Python 3",
   "language": "python",
   "name": "python3"
  },
  "language_info": {
   "codemirror_mode": {
    "name": "ipython",
    "version": 3
   },
   "file_extension": ".py",
   "mimetype": "text/x-python",
   "name": "python",
   "nbconvert_exporter": "python",
   "pygments_lexer": "ipython3",
   "version": "3.8.2"
  }
 },
 "nbformat": 4,
 "nbformat_minor": 1
}