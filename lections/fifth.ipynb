{
 "cells": [
  {
   "cell_type": "markdown",
   "source": [
    "# Задача 5\n",
    "# Вариант 7"
   ],
   "metadata": {
    "collapsed": false
   }
  },
  {
   "cell_type": "markdown",
   "source": [
    "Условия задания\n",
    "\n",
    "$F(p) = \\frac{\\sqrt[3]{p}}{p^2-1}$"
   ],
   "metadata": {
    "collapsed": false
   }
  },
  {
   "cell_type": "markdown",
   "source": [
    "Входные данные"
   ],
   "metadata": {
    "collapsed": false,
    "pycharm": {
     "name": "#%% md\n"
    }
   }
  },
  {
   "cell_type": "code",
   "execution_count": 1,
   "metadata": {
    "collapsed": true
   },
   "outputs": [],
   "source": [
    "import numpy as np\n",
    "from sympy import diff\n",
    "from sympy.abc import p\n",
    "import math\n",
    "import matplotlib.pyplot as plt\n",
    "\n",
    "\n",
    "F = p ** (1/3) / (p ** 2 - 1)"
   ]
  },
  {
   "cell_type": "markdown",
   "source": [
    "Функция вычисляющая $W_n(f,t)$"
   ],
   "metadata": {
    "collapsed": false,
    "pycharm": {
     "name": "#%% md\n"
    }
   }
  },
  {
   "cell_type": "code",
   "execution_count": 2,
   "outputs": [],
   "source": [
    "cache_diff = [diff(F, p, 1)]\n",
    "def W(n, t: float):\n",
    "    if len(cache_diff) < n:\n",
    "        for i in range(n - len(cache_diff)):\n",
    "            cache_diff.append(diff(cache_diff[-1], p, 1))\n",
    "    differ = cache_diff[n - 1].evalf(subs={p: n / t})\n",
    "    return (-1) ** (n % 2) * (n / t) ** (n + 1) / math.factorial(n) * differ\n"
   ],
   "metadata": {
    "collapsed": false,
    "pycharm": {
     "name": "#%%\n"
    }
   }
  },
  {
   "cell_type": "markdown",
   "source": [
    "Вычисление методом Виддера без ускорения сходимости и вывод количества итерация для получения точности $\\epsilon = 10^{-4}$"
   ],
   "metadata": {
    "collapsed": false,
    "pycharm": {
     "name": "#%% md\n"
    }
   }
  },
  {
   "cell_type": "code",
   "execution_count": 3,
   "outputs": [
    {
     "name": "stdout",
     "output_type": "stream",
     "text": [
      "n = 39\n"
     ]
    }
   ],
   "source": [
    "n = 1\n",
    "t = 0.5\n",
    "epsilon = 10 ** (-4)\n",
    "delta = None\n",
    "prev_num = W(n, t)\n",
    "\n",
    "while delta is None or delta > epsilon:\n",
    "    n += 1\n",
    "    new_num = W(n, t)\n",
    "    delta = abs(prev_num - new_num)\n",
    "    prev_num = new_num\n",
    "\n",
    "print(f\"n = {n}\")\n",
    "\n",
    "x_line = np.linspace(2, 3, 100)\n",
    "default_line = np.array([W(n, x) for x in x_line])"
   ],
   "metadata": {
    "collapsed": false,
    "pycharm": {
     "name": "#%%\n"
    }
   }
  },
  {
   "cell_type": "markdown",
   "source": [
    "Реализация метода Виддера с ускорением"
   ],
   "metadata": {
    "collapsed": false,
    "pycharm": {
     "name": "#%% md\n"
    }
   }
  },
  {
   "cell_type": "code",
   "execution_count": 4,
   "outputs": [],
   "source": [
    "def W_boost(n, k, t):\n",
    "    test = [5 * i + 1 for i in range(k)]\n",
    "    D = sorted([rnd / n for rnd in test])\n",
    "    C = []\n",
    "\n",
    "    for j in range(k):\n",
    "        ans = 1\n",
    "        for i in range(n):\n",
    "            if i == j:\n",
    "                continue\n",
    "            ans *= D[j] / (D[j] - D[i])\n",
    "        C.append(ans)\n",
    "\n",
    "    ans = 0\n",
    "    for i in range(k):\n",
    "        ans += C[i] * W(int(n * D[i]), t)\n",
    "    return ans\n"
   ],
   "metadata": {
    "collapsed": false,
    "pycharm": {
     "name": "#%%\n"
    }
   }
  },
  {
   "cell_type": "markdown",
   "source": [
    "Вывод количества шагов для получения точности $\\epsilon = 10^{-4}$"
   ],
   "metadata": {
    "collapsed": false,
    "pycharm": {
     "name": "#%% md\n"
    }
   }
  },
  {
   "cell_type": "code",
   "execution_count": 5,
   "outputs": [
    {
     "name": "stdout",
     "output_type": "stream",
     "text": [
      "n = 6\n"
     ]
    }
   ],
   "source": [
    "n_boost = 2\n",
    "t = 0.5\n",
    "delta_boost = None\n",
    "prev_num_boost = W_boost(n_boost, n_boost, t)\n",
    "\n",
    "while delta_boost is None or delta_boost > epsilon:\n",
    "    n_boost += 1\n",
    "    new_num = W_boost(n_boost, n_boost, t)\n",
    "    delta_boost = abs(prev_num_boost - new_num)\n",
    "    prev_num_boost = new_num\n",
    "\n",
    "boost_line = np.array([W_boost(n_boost, n_boost, x) for x in x_line])\n",
    "print(f\"n = {n_boost}\")"
   ],
   "metadata": {
    "collapsed": false,
    "pycharm": {
     "name": "#%%\n"
    }
   }
  },
  {
   "cell_type": "markdown",
   "source": [
    "Вывод графиков для обоих методов"
   ],
   "metadata": {
    "collapsed": false,
    "pycharm": {
     "name": "#%% md\n"
    }
   }
  },
  {
   "cell_type": "code",
   "execution_count": 6,
   "outputs": [
    {
     "data": {
      "text/plain": "<Figure size 432x288 with 1 Axes>",
      "image/png": "[encoded data removed]"
     },
     "metadata": {
      "needs_background": "light"
     },
     "output_type": "display_data"
    }
   ],
   "source": [
    "plt.plot(x_line, default_line, \"-\", label=\"Метод Виддера без ускорения\")\n",
    "plt.plot(x_line, boost_line, \"-.\", label=\"Метод Виддера с ускорением\")\n",
    "plt.legend()\n",
    "plt.show()"
   ],
   "metadata": {
    "collapsed": false,
    "pycharm": {
     "name": "#%%\n"
    }
   }
  }
 ],
 "metadata": {
  "kernelspec": {
   "display_name": "Python 3",
   "language": "python",
   "name": "python3"
  },
  "language_info": {
   "codemirror_mode": {
    "name": "ipython",
    "version": 2
   },
   "file_extension": ".py",
   "mimetype": "text/x-python",
   "name": "python",
   "nbconvert_exporter": "python",
   "pygments_lexer": "ipython2",
   "version": "2.7.6"
  }
 },
 "nbformat": 4,
 "nbformat_minor": 0
}