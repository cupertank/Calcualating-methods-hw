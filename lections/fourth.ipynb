{
 "cells": [
  {
   "cell_type": "markdown",
   "source": [
    "# Задача 3\n",
    "# Вариант 7"
   ],
   "metadata": {
    "collapsed": false,
    "pycharm": {
     "name": "#%% md\n"
    }
   }
  },
  {
   "cell_type": "markdown",
   "source": [
    "Условия задания\n",
    "\n",
    "$ K(x,s) = exp(-xs)$\n",
    "\n",
    "При $z(x) = 1$\n",
    "\n",
    "$u(x) = \\frac{1 - exp(-x)}{x}$"
   ],
   "metadata": {
    "collapsed": false,
    "pycharm": {
     "name": "#%% md\n"
    }
   }
  },
  {
   "cell_type": "markdown",
   "source": [
    "Входные условия и вычисление функций $P_k(x)$ и $w_k(x)$"
   ],
   "metadata": {
    "collapsed": false,
    "pycharm": {
     "name": "#%% md\n"
    }
   }
  },
  {
   "cell_type": "code",
   "execution_count": 1,
   "metadata": {
    "collapsed": true
   },
   "outputs": [],
   "source": [
    "import numpy as np\n",
    "from scipy.integrate import quad\n",
    "import math\n",
    "import matplotlib.pyplot as plt\n",
    "from pandas import DataFrame\n",
    "\n",
    "\n",
    "def K(x, s):\n",
    "    return math.exp(-x * s)\n",
    "\n",
    "def P_func(n, x):\n",
    "    if n == 0:\n",
    "        return 1\n",
    "    if n == 1:\n",
    "        return x\n",
    "\n",
    "    prev_funcs = [1, x]\n",
    "    for i in range(n + 1):\n",
    "        new_func = (2 * n + 1) * x * prev_funcs[i - 1] / (n + 1) - \\\n",
    "                   i * prev_funcs[i - 2] / (i +  1)\n",
    "        prev_funcs.append(new_func)\n",
    "\n",
    "    return prev_funcs[n]\n",
    "\n",
    "\n",
    "def w_func(k, x):\n",
    "    return P_func(k - 1, 2 * x - 1)\n",
    "\n",
    "def u(x):\n",
    "    return (1 - math.exp(-x)) / x\n",
    "\n",
    "def z(x):\n",
    "    return 1.0"
   ]
  },
  {
   "cell_type": "markdown",
   "source": [
    "Функция реализующая метод Галеркина и возвращающая функцию $z(x)$"
   ],
   "metadata": {
    "collapsed": false,
    "pycharm": {
     "name": "#%% md\n"
    }
   }
  },
  {
   "cell_type": "code",
   "execution_count": 2,
   "outputs": [],
   "source": [
    "def calculate_galerkin_method(n, alpha, K, u):\n",
    "    def Z(x, C, n):\n",
    "        ans = 0\n",
    "        for k in range(1, n):\n",
    "            ans += C[k - 1, 0] * w_func(k, x)\n",
    "        return ans\n",
    "\n",
    "    B = []\n",
    "    for j in range(1, n + 1):\n",
    "        row = []\n",
    "        for k in range(1, n + 1):\n",
    "            left_part = lambda x: quad(lambda s, x: K(x, s) * w_func(k, s), 0, 1, args=(x,))[0]\n",
    "            full_scalar = quad(lambda x: left_part(x) * w_func(j, x), 0, 1)[0]\n",
    "            row.append(full_scalar)\n",
    "        B.append(row)\n",
    "    B = np.array(B)\n",
    "\n",
    "    U = []\n",
    "    for j in range(1, n + 1):\n",
    "        new_value = quad(lambda x: u(x) * w_func(j, x), 0, 1)[0]\n",
    "        U.append(new_value)\n",
    "    U = np.array(U).reshape(n, 1)\n",
    "\n",
    "    B_conj = np.conj(B)\n",
    "\n",
    "    C = np.linalg.solve(B_conj.dot(B) + alpha * np.eye(n), B_conj.dot(U))\n",
    "\n",
    "    return lambda x: Z(x, C, n)"
   ],
   "metadata": {
    "collapsed": false,
    "pycharm": {
     "name": "#%%\n"
    }
   }
  },
  {
   "cell_type": "markdown",
   "source": [
    "Вычисление таблицы ошибок для функции $z(x) = 1$ полученной методом Галеркина"
   ],
   "metadata": {
    "collapsed": false,
    "pycharm": {
     "name": "#%% md\n"
    }
   }
  },
  {
   "cell_type": "code",
   "execution_count": 3,
   "outputs": [
    {
     "data": {
      "text/plain": "    1.000000e-05  1.000000e-06  1.000000e-07  1.000000e-08  1.000000e-09  \\\n2       0.001317      0.000134      0.000013      0.000001  1.341833e-07   \n3       2.300346      2.007280      0.883807      0.133974  1.412610e-02   \n4       2.133918      1.853357      0.799971      0.119689  1.259374e-02   \n5       2.110223      1.795136      1.506354      1.452294  1.446417e+00   \n6       1.828430      1.073253      0.555220      0.521477  4.890990e-01   \n7       2.830797      1.947479      1.656335      1.646324  1.648032e+00   \n8       2.544784      1.145852      0.434165      0.407088  2.804587e-01   \n9       3.189618      1.949309      1.826025      1.833988  1.820206e+00   \n10      3.970094      1.898308      1.410980      1.359863  1.294306e+00   \n\n    1.000000e-10  1.000000e-11  1.000000e-12  1.000000e-13  1.000000e-14  \\\n2   1.341835e-08  1.341838e-09  1.341771e-10  1.341927e-11  1.328937e-12   \n3   1.420336e-03  1.421113e-04  1.420897e-05  1.419086e-06  1.420665e-07   \n4   1.266005e-03  1.270983e-04  7.256750e-05  2.016225e-04  4.385055e-04   \n5   1.445822e+00  1.445742e+00  1.445695e+00  1.444882e+00  1.424623e+00   \n6   3.054138e-01  6.423573e-02  7.221231e-03  7.339564e-04  7.407292e-05   \n7   1.660035e+00  1.674575e+00  1.678790e+00  1.682477e+00  1.807797e+00   \n8   1.442390e-01  1.333424e-01  1.333392e-01  1.363802e-01  1.383775e-01   \n9   1.823817e+00  1.827190e+00  1.810217e+00  1.658780e+00  8.361800e-01   \n10  1.244501e+00  1.238375e+00  1.233111e+00  1.200994e+00  8.718274e-01   \n\n    1.000000e-15  \n2   1.265654e-13  \n3   1.266613e-08  \n4   5.571938e-02  \n5   1.071205e+00  \n6   9.079640e-06  \n7   2.535248e+00  \n8   2.244129e-01  \n9   1.604698e-01  \n10  1.729171e+00  ",
      "text/html": "<div>\n<style scoped>\n    .dataframe tbody tr th:only-of-type {\n        vertical-align: middle;\n    }\n\n    .dataframe tbody tr th {\n        vertical-align: top;\n    }\n\n    .dataframe thead th {\n        text-align: right;\n    }\n</style>\n<table border=\"1\" class=\"dataframe\">\n  <thead>\n    <tr style=\"text-align: right;\">\n      <th></th>\n      <th>1.000000e-05</th>\n      <th>1.000000e-06</th>\n      <th>1.000000e-07</th>\n      <th>1.000000e-08</th>\n      <th>1.000000e-09</th>\n      <th>1.000000e-10</th>\n      <th>1.000000e-11</th>\n      <th>1.000000e-12</th>\n      <th>1.000000e-13</th>\n      <th>1.000000e-14</th>\n      <th>1.000000e-15</th>\n    </tr>\n  </thead>\n  <tbody>\n    <tr>\n      <th>2</th>\n      <td>0.001317</td>\n      <td>0.000134</td>\n      <td>0.000013</td>\n      <td>0.000001</td>\n      <td>1.341833e-07</td>\n      <td>1.341835e-08</td>\n      <td>1.341838e-09</td>\n      <td>1.341771e-10</td>\n      <td>1.341927e-11</td>\n      <td>1.328937e-12</td>\n      <td>1.265654e-13</td>\n    </tr>\n    <tr>\n      <th>3</th>\n      <td>2.300346</td>\n      <td>2.007280</td>\n      <td>0.883807</td>\n      <td>0.133974</td>\n      <td>1.412610e-02</td>\n      <td>1.420336e-03</td>\n      <td>1.421113e-04</td>\n      <td>1.420897e-05</td>\n      <td>1.419086e-06</td>\n      <td>1.420665e-07</td>\n      <td>1.266613e-08</td>\n    </tr>\n    <tr>\n      <th>4</th>\n      <td>2.133918</td>\n      <td>1.853357</td>\n      <td>0.799971</td>\n      <td>0.119689</td>\n      <td>1.259374e-02</td>\n      <td>1.266005e-03</td>\n      <td>1.270983e-04</td>\n      <td>7.256750e-05</td>\n      <td>2.016225e-04</td>\n      <td>4.385055e-04</td>\n      <td>5.571938e-02</td>\n    </tr>\n    <tr>\n      <th>5</th>\n      <td>2.110223</td>\n      <td>1.795136</td>\n      <td>1.506354</td>\n      <td>1.452294</td>\n      <td>1.446417e+00</td>\n      <td>1.445822e+00</td>\n      <td>1.445742e+00</td>\n      <td>1.445695e+00</td>\n      <td>1.444882e+00</td>\n      <td>1.424623e+00</td>\n      <td>1.071205e+00</td>\n    </tr>\n    <tr>\n      <th>6</th>\n      <td>1.828430</td>\n      <td>1.073253</td>\n      <td>0.555220</td>\n      <td>0.521477</td>\n      <td>4.890990e-01</td>\n      <td>3.054138e-01</td>\n      <td>6.423573e-02</td>\n      <td>7.221231e-03</td>\n      <td>7.339564e-04</td>\n      <td>7.407292e-05</td>\n      <td>9.079640e-06</td>\n    </tr>\n    <tr>\n      <th>7</th>\n      <td>2.830797</td>\n      <td>1.947479</td>\n      <td>1.656335</td>\n      <td>1.646324</td>\n      <td>1.648032e+00</td>\n      <td>1.660035e+00</td>\n      <td>1.674575e+00</td>\n      <td>1.678790e+00</td>\n      <td>1.682477e+00</td>\n      <td>1.807797e+00</td>\n      <td>2.535248e+00</td>\n    </tr>\n    <tr>\n      <th>8</th>\n      <td>2.544784</td>\n      <td>1.145852</td>\n      <td>0.434165</td>\n      <td>0.407088</td>\n      <td>2.804587e-01</td>\n      <td>1.442390e-01</td>\n      <td>1.333424e-01</td>\n      <td>1.333392e-01</td>\n      <td>1.363802e-01</td>\n      <td>1.383775e-01</td>\n      <td>2.244129e-01</td>\n    </tr>\n    <tr>\n      <th>9</th>\n      <td>3.189618</td>\n      <td>1.949309</td>\n      <td>1.826025</td>\n      <td>1.833988</td>\n      <td>1.820206e+00</td>\n      <td>1.823817e+00</td>\n      <td>1.827190e+00</td>\n      <td>1.810217e+00</td>\n      <td>1.658780e+00</td>\n      <td>8.361800e-01</td>\n      <td>1.604698e-01</td>\n    </tr>\n    <tr>\n      <th>10</th>\n      <td>3.970094</td>\n      <td>1.898308</td>\n      <td>1.410980</td>\n      <td>1.359863</td>\n      <td>1.294306e+00</td>\n      <td>1.244501e+00</td>\n      <td>1.238375e+00</td>\n      <td>1.233111e+00</td>\n      <td>1.200994e+00</td>\n      <td>8.718274e-01</td>\n      <td>1.729171e+00</td>\n    </tr>\n  </tbody>\n</table>\n</div>"
     },
     "execution_count": 3,
     "metadata": {},
     "output_type": "execute_result"
    }
   ],
   "source": [
    "N = [i for i in range(2, 11)]\n",
    "Alpha = [10 ** (-i) for i in range(5, 16)]\n",
    "\n",
    "table = []\n",
    "\n",
    "x_line = np.linspace(0, 1, 100)\n",
    "for n in N:\n",
    "    row = []\n",
    "    for alpha in Alpha:\n",
    "        z_func = calculate_galerkin_method(n, alpha, K, u)\n",
    "        z_orig_vect = np.array([z(x) for x in x_line])\n",
    "        z_galerkin_vect = np.array([z_func(x) for x in x_line])\n",
    "        delta = np.linalg.norm(z_orig_vect - z_galerkin_vect)\n",
    "        row.append(delta)\n",
    "    table.append(row)\n",
    "\n",
    "df = DataFrame(table, index=N, columns=Alpha)\n",
    "df"
   ],
   "metadata": {
    "collapsed": false,
    "pycharm": {
     "name": "#%%\n"
    }
   }
  },
  {
   "cell_type": "markdown",
   "source": [
    "Вывод оптимальных $n$ и $\\alpha$"
   ],
   "metadata": {
    "collapsed": false,
    "pycharm": {
     "name": "#%% md\n"
    }
   }
  },
  {
   "cell_type": "code",
   "execution_count": 4,
   "outputs": [
    {
     "name": "stdout",
     "output_type": "stream",
     "text": [
      "Optimal n = 2\n",
      "Optimal alpha = 1e-15\n"
     ]
    }
   ],
   "source": [
    "table = np.array(table)\n",
    "i, j = np.unravel_index(table.argmin(), table.shape)\n",
    "\n",
    "optimal_n = N[i]\n",
    "optimal_alpha = Alpha[j]\n",
    "\n",
    "print(f\"Optimal n = {optimal_n}\")\n",
    "print(f\"Optimal alpha = {optimal_alpha}\")"
   ],
   "metadata": {
    "collapsed": false,
    "pycharm": {
     "name": "#%%\n"
    }
   }
  },
  {
   "cell_type": "markdown",
   "source": [
    "Графики функции $z(x) = 1$ и функции $z(x)$ полученной методом Галеркина"
   ],
   "metadata": {
    "collapsed": false,
    "pycharm": {
     "name": "#%% md\n"
    }
   }
  },
  {
   "cell_type": "code",
   "execution_count": 5,
   "outputs": [
    {
     "data": {
      "text/plain": "<Figure size 432x288 with 1 Axes>",
      "image/png": "[encoded data removed]"
     },
     "metadata": {
      "needs_background": "light"
     },
     "output_type": "display_data"
    }
   ],
   "source": [
    "z_func = calculate_galerkin_method(optimal_n, optimal_alpha, K, u)\n",
    "z_orig_vect = np.array([z(x) for x in x_line])\n",
    "z_galerkin_vect = np.array([z_func(x) for x in x_line])\n",
    "\n",
    "plt.plot(x_line, z_orig_vect, \"-.\", label=\"Оригинальная Z(x)\")\n",
    "plt.plot(x_line, z_galerkin_vect, \"-\", label=\"Z(x) методом Галеркина\")\n",
    "plt.ylim((0.9,1.1))\n",
    "plt.legend()\n",
    "plt.show()\n"
   ],
   "metadata": {
    "collapsed": false,
    "pycharm": {
     "name": "#%%\n"
    }
   }
  },
  {
   "cell_type": "markdown",
   "source": [
    "Рассмотрим $z(x) = x$\n",
    "\n",
    "Тогда $u(x) = \\frac{1 - e^x(x+1)}{x^2}$"
   ],
   "metadata": {
    "collapsed": false,
    "pycharm": {
     "name": "#%% md\n"
    }
   }
  },
  {
   "cell_type": "markdown",
   "source": [
    "Новые функции $z(s)$ и $u(x)$"
   ],
   "metadata": {
    "collapsed": false,
    "pycharm": {
     "name": "#%% md\n"
    }
   }
  },
  {
   "cell_type": "code",
   "execution_count": 6,
   "outputs": [],
   "source": [
    "def z(x):\n",
    "    return x\n",
    "\n",
    "def u(x):\n",
    "    return (1 - math.exp(-x) * (x + 1)) / (x ** 2)"
   ],
   "metadata": {
    "collapsed": false,
    "pycharm": {
     "name": "#%%\n"
    }
   }
  },
  {
   "cell_type": "markdown",
   "source": [
    "Вывод таблицы ошибок для новых функций"
   ],
   "metadata": {
    "collapsed": false,
    "pycharm": {
     "name": "#%% md\n"
    }
   }
  },
  {
   "cell_type": "code",
   "execution_count": 7,
   "outputs": [
    {
     "data": {
      "text/plain": "    1.000000e-05  1.000000e-06  1.000000e-07  1.000000e-08  1.000000e-09  \\\n2       2.915777      2.915765      2.915765      2.915765      2.915765   \n3       0.935847      0.811590      0.357199      0.054145      0.005709   \n4       2.272217      2.254494      2.214446      2.209429      2.210147   \n5       0.598724      0.539963      0.486212      0.476091      0.474989   \n6       1.233169      1.166451      1.134628      1.124842      1.057022   \n7       1.243935      1.065564      0.992791      0.983115      0.960887   \n8       1.051694      0.807817      0.718334      0.695054      0.607080   \n9       1.869544      1.639057      1.639558      1.636306      1.601306   \n10      2.040708      1.445238      1.308331      1.276711      1.181491   \n\n    1.000000e-10  1.000000e-11  1.000000e-12  1.000000e-13  1.000000e-14  \\\n2       2.915765      2.915765      2.915765  2.915765e+00  2.915765e+00   \n3       0.000574      0.000057      0.000006  5.739047e-07  5.738174e-08   \n4       2.210247      2.210262      2.210284  2.209562e+00  2.216451e+00   \n5       0.474879      0.474878      0.475064  4.760150e-01  4.899212e-01   \n6       0.660145      0.138844      0.015606  1.580221e-03  1.586265e-04   \n7       0.892156      0.922196      0.942603  9.428813e-01  9.537124e-01   \n8       0.546857      0.545012      0.545141  5.453129e-01  5.476534e-01   \n9       1.594851      1.599171      1.585726  1.462733e+00  8.210332e-01   \n10      1.107527      1.099762      1.095937  1.077280e+00  9.316228e-01   \n\n    1.000000e-15  \n2   2.915765e+00  \n3   5.120569e-09  \n4   2.267463e+00  \n5   5.570155e-01  \n6   1.598832e-05  \n7   6.636047e-01  \n8   5.522779e-01  \n9   2.026823e-01  \n10  8.428695e-02  ",
      "text/html": "<div>\n<style scoped>\n    .dataframe tbody tr th:only-of-type {\n        vertical-align: middle;\n    }\n\n    .dataframe tbody tr th {\n        vertical-align: top;\n    }\n\n    .dataframe thead th {\n        text-align: right;\n    }\n</style>\n<table border=\"1\" class=\"dataframe\">\n  <thead>\n    <tr style=\"text-align: right;\">\n      <th></th>\n      <th>1.000000e-05</th>\n      <th>1.000000e-06</th>\n      <th>1.000000e-07</th>\n      <th>1.000000e-08</th>\n      <th>1.000000e-09</th>\n      <th>1.000000e-10</th>\n      <th>1.000000e-11</th>\n      <th>1.000000e-12</th>\n      <th>1.000000e-13</th>\n      <th>1.000000e-14</th>\n      <th>1.000000e-15</th>\n    </tr>\n  </thead>\n  <tbody>\n    <tr>\n      <th>2</th>\n      <td>2.915777</td>\n      <td>2.915765</td>\n      <td>2.915765</td>\n      <td>2.915765</td>\n      <td>2.915765</td>\n      <td>2.915765</td>\n      <td>2.915765</td>\n      <td>2.915765</td>\n      <td>2.915765e+00</td>\n      <td>2.915765e+00</td>\n      <td>2.915765e+00</td>\n    </tr>\n    <tr>\n      <th>3</th>\n      <td>0.935847</td>\n      <td>0.811590</td>\n      <td>0.357199</td>\n      <td>0.054145</td>\n      <td>0.005709</td>\n      <td>0.000574</td>\n      <td>0.000057</td>\n      <td>0.000006</td>\n      <td>5.739047e-07</td>\n      <td>5.738174e-08</td>\n      <td>5.120569e-09</td>\n    </tr>\n    <tr>\n      <th>4</th>\n      <td>2.272217</td>\n      <td>2.254494</td>\n      <td>2.214446</td>\n      <td>2.209429</td>\n      <td>2.210147</td>\n      <td>2.210247</td>\n      <td>2.210262</td>\n      <td>2.210284</td>\n      <td>2.209562e+00</td>\n      <td>2.216451e+00</td>\n      <td>2.267463e+00</td>\n    </tr>\n    <tr>\n      <th>5</th>\n      <td>0.598724</td>\n      <td>0.539963</td>\n      <td>0.486212</td>\n      <td>0.476091</td>\n      <td>0.474989</td>\n      <td>0.474879</td>\n      <td>0.474878</td>\n      <td>0.475064</td>\n      <td>4.760150e-01</td>\n      <td>4.899212e-01</td>\n      <td>5.570155e-01</td>\n    </tr>\n    <tr>\n      <th>6</th>\n      <td>1.233169</td>\n      <td>1.166451</td>\n      <td>1.134628</td>\n      <td>1.124842</td>\n      <td>1.057022</td>\n      <td>0.660145</td>\n      <td>0.138844</td>\n      <td>0.015606</td>\n      <td>1.580221e-03</td>\n      <td>1.586265e-04</td>\n      <td>1.598832e-05</td>\n    </tr>\n    <tr>\n      <th>7</th>\n      <td>1.243935</td>\n      <td>1.065564</td>\n      <td>0.992791</td>\n      <td>0.983115</td>\n      <td>0.960887</td>\n      <td>0.892156</td>\n      <td>0.922196</td>\n      <td>0.942603</td>\n      <td>9.428813e-01</td>\n      <td>9.537124e-01</td>\n      <td>6.636047e-01</td>\n    </tr>\n    <tr>\n      <th>8</th>\n      <td>1.051694</td>\n      <td>0.807817</td>\n      <td>0.718334</td>\n      <td>0.695054</td>\n      <td>0.607080</td>\n      <td>0.546857</td>\n      <td>0.545012</td>\n      <td>0.545141</td>\n      <td>5.453129e-01</td>\n      <td>5.476534e-01</td>\n      <td>5.522779e-01</td>\n    </tr>\n    <tr>\n      <th>9</th>\n      <td>1.869544</td>\n      <td>1.639057</td>\n      <td>1.639558</td>\n      <td>1.636306</td>\n      <td>1.601306</td>\n      <td>1.594851</td>\n      <td>1.599171</td>\n      <td>1.585726</td>\n      <td>1.462733e+00</td>\n      <td>8.210332e-01</td>\n      <td>2.026823e-01</td>\n    </tr>\n    <tr>\n      <th>10</th>\n      <td>2.040708</td>\n      <td>1.445238</td>\n      <td>1.308331</td>\n      <td>1.276711</td>\n      <td>1.181491</td>\n      <td>1.107527</td>\n      <td>1.099762</td>\n      <td>1.095937</td>\n      <td>1.077280e+00</td>\n      <td>9.316228e-01</td>\n      <td>8.428695e-02</td>\n    </tr>\n  </tbody>\n</table>\n</div>"
     },
     "execution_count": 7,
     "metadata": {},
     "output_type": "execute_result"
    }
   ],
   "source": [
    "N = [i for i in range(2, 11)]\n",
    "Alpha = [10 ** (-i) for i in range(5, 16)]\n",
    "\n",
    "table = []\n",
    "\n",
    "x_line = np.linspace(0, 1, 100)\n",
    "for n in N:\n",
    "    row = []\n",
    "    for alpha in Alpha:\n",
    "        z_func = calculate_galerkin_method(n, alpha, K, u)\n",
    "        z_orig_vect = np.array([z(x) for x in x_line])\n",
    "        z_galerkin_vect = np.array([z_func(x) for x in x_line])\n",
    "        delta = np.linalg.norm(z_orig_vect - z_galerkin_vect)\n",
    "        row.append(delta)\n",
    "    table.append(row)\n",
    "\n",
    "df = DataFrame(table, index=N, columns=Alpha)\n",
    "df"
   ],
   "metadata": {
    "collapsed": false,
    "pycharm": {
     "name": "#%%\n"
    }
   }
  },
  {
   "cell_type": "markdown",
   "source": [
    "Вывод оптимальных $n$ и $\\alpha$ для новых функций"
   ],
   "metadata": {
    "collapsed": false,
    "pycharm": {
     "name": "#%% md\n"
    }
   }
  },
  {
   "cell_type": "code",
   "execution_count": 8,
   "outputs": [
    {
     "name": "stdout",
     "output_type": "stream",
     "text": [
      "Optimal N = 3\n",
      "Optimal alpha = 1e-15\n"
     ]
    }
   ],
   "source": [
    "table = np.array(table)\n",
    "i, j = np.unravel_index(table.argmin(), table.shape)\n",
    "\n",
    "optimal_n = N[i]\n",
    "optimal_alpha = Alpha[j]\n",
    "\n",
    "print(f\"Optimal N = {optimal_n}\")\n",
    "print(f\"Optimal alpha = {optimal_alpha}\")\n"
   ],
   "metadata": {
    "collapsed": false,
    "pycharm": {
     "name": "#%%\n"
    }
   }
  },
  {
   "cell_type": "markdown",
   "source": [
    "Графики функции $z(x) = x$ и функции $z(x)$ полученной методом Галеркина"
   ],
   "metadata": {
    "collapsed": false
   }
  },
  {
   "cell_type": "code",
   "execution_count": 9,
   "outputs": [
    {
     "data": {
      "text/plain": "<Figure size 432x288 with 1 Axes>",
      "image/png": "[encoded data removed]"
     },
     "metadata": {
      "needs_background": "light"
     },
     "output_type": "display_data"
    }
   ],
   "source": [
    "z_func = calculate_galerkin_method(optimal_n, optimal_alpha, K, u)\n",
    "z_orig_vect = np.array([z(x) for x in x_line])\n",
    "z_galerkin_vect = np.array([z_func(x) for x in x_line])\n",
    "\n",
    "plt.plot(x_line, z_orig_vect, \"-.\", label=\"Оригинальная Z(x)\")\n",
    "plt.plot(x_line, z_galerkin_vect, \"-\", label=\"Z(x) методом Галеркина\")\n",
    "plt.legend()\n",
    "plt.show()"
   ],
   "metadata": {
    "collapsed": false,
    "pycharm": {
     "name": "#%%\n"
    }
   }
  }
 ],
 "metadata": {
  "kernelspec": {
   "display_name": "Python 3",
   "language": "python",
   "name": "python3"
  },
  "language_info": {
   "codemirror_mode": {
    "name": "ipython",
    "version": 2
   },
   "file_extension": ".py",
   "mimetype": "text/x-python",
   "name": "python",
   "nbconvert_exporter": "python",
   "pygments_lexer": "ipython2",
   "version": "2.7.6"
  }
 },
 "nbformat": 4,
 "nbformat_minor": 0
}