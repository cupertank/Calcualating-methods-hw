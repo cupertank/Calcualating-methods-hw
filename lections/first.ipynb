{
 "cells": [
  {
   "cell_type": "markdown",
   "source": [
    "# Вариант 7.\n",
    "Входные параметры"
   ],
   "metadata": {
    "collapsed": false,
    "pycharm": {
     "name": "#%% md\n"
    }
   }
  },
  {
   "cell_type": "code",
   "execution_count": 10,
   "metadata": {
    "collapsed": true
   },
   "outputs": [],
   "source": [
    "import numpy as np\n",
    "from numpy.linalg import eig\n",
    "from pandas import DataFrame\n",
    "\n",
    "def a(k):\n",
    "    return 3 * k\n",
    "\n",
    "def b(k):\n",
    "    return k"
   ]
  },
  {
   "cell_type": "markdown",
   "source": [
    "Реализация функции, которая вычисляет квадратный корень на основе собственных чисел и векторов"
   ],
   "metadata": {
    "collapsed": false,
    "pycharm": {
     "name": "#%% md\n"
    }
   }
  },
  {
   "cell_type": "code",
   "execution_count": 11,
   "outputs": [],
   "source": [
    "def sqrt_eig(A):\n",
    "    (eigenvalues, eigenvectors) = np.linalg.eig(A)\n",
    "\n",
    "    sqrt_eigenvalues = np.sqrt(eigenvalues)\n",
    "    sqrt_eigenvalues_matrix = np.diag(sqrt_eigenvalues)\n",
    "    B = np.dot(np.dot(eigenvectors, sqrt_eigenvalues_matrix), np.linalg.inv(eigenvectors))\n",
    "    B_square = np.dot(B, B)\n",
    "    deviation = np.mean(np.abs(B_square - A))\n",
    "    return [np.linalg.cond(B), deviation]"
   ],
   "metadata": {
    "collapsed": false,
    "pycharm": {
     "name": "#%%\n"
    }
   }
  },
  {
   "cell_type": "markdown",
   "source": [
    "Реализация функции, которая вычисляет квадратный корень при помощи метода Ньютона"
   ],
   "metadata": {
    "collapsed": false
   }
  },
  {
   "cell_type": "code",
   "execution_count": 12,
   "outputs": [],
   "source": [
    "def sqrt_newton(A):\n",
    "    B = [A]\n",
    "\n",
    "    prev_deviation = None\n",
    "    deviation = None\n",
    "    while prev_deviation is None or deviation is None or deviation < prev_deviation:\n",
    "        if not deviation is None:\n",
    "            prev_deviation = deviation\n",
    "        last_B = B[-1]\n",
    "        if np.linalg.det(last_B) == 0:\n",
    "            break\n",
    "        new_B = (last_B + np.dot(np.linalg.inv(last_B), A)) / 2\n",
    "        deviation = np.mean(np.abs(new_B - last_B))\n",
    "        B.append(new_B)\n",
    "\n",
    "    if (len(B) > 2):\n",
    "        answer_B = B[-2]\n",
    "    else:\n",
    "        answer_B = B[-1]\n",
    "    B_square = np.dot(answer_B, answer_B)\n",
    "    ans_deviation = np.mean(np.abs(B_square - A))\n",
    "    return [np.linalg.cond(answer_B), ans_deviation]"
   ],
   "metadata": {
    "collapsed": false,
    "pycharm": {
     "name": "#%%\n"
    }
   }
  },
  {
   "cell_type": "markdown",
   "source": [
    "Вычисление квадратных корней для различных n и вывод на экран"
   ],
   "metadata": {
    "collapsed": false
   }
  },
  {
   "cell_type": "code",
   "execution_count": 13,
   "outputs": [
    {
     "data": {
      "text/plain": "    n       cond(A)   cond(B_eig)  cond(B_newton)  eig_deviation  \\\n0   2  2.629530e+01  5.135306e+00    5.135306e+00   2.331468e-15   \n1   3  9.021445e+02  3.030926e+01    3.030926e+01   1.595267e-13   \n2   4  4.122162e+04  2.076193e+02    2.076166e+02   1.222689e-12   \n3   5  2.420631e+06  1.625841e+03    2.388898e+03   1.465479e-10   \n4   6  1.771534e+08  1.438135e+04    1.664898e+05   4.895763e-09   \n5   7  1.571251e+10  1.420814e+05    1.410300e+07   8.600731e-07   \n6   8  1.646899e+12  1.550391e+06    2.030179e+09   8.662786e-05   \n7   9  1.996358e+14  1.848510e+07    2.591861e+11   6.491102e-03   \n8  10  3.299927e+16  2.383319e+08    1.225945e+14   3.835917e-01   \n\n   newton_deviation  \n0      5.950795e-14  \n1      1.154144e-07  \n2      1.367843e+00  \n3      5.317462e+04  \n4      1.903682e+08  \n5      4.562137e+11  \n6      4.528819e+15  \n7      1.747039e+19  \n8      9.766170e+22  ",
      "text/html": "<div>\n<style scoped>\n    .dataframe tbody tr th:only-of-type {\n        vertical-align: middle;\n    }\n\n    .dataframe tbody tr th {\n        vertical-align: top;\n    }\n\n    .dataframe thead th {\n        text-align: right;\n    }\n</style>\n<table border=\"1\" class=\"dataframe\">\n  <thead>\n    <tr style=\"text-align: right;\">\n      <th></th>\n      <th>n</th>\n      <th>cond(A)</th>\n      <th>cond(B_eig)</th>\n      <th>cond(B_newton)</th>\n      <th>eig_deviation</th>\n      <th>newton_deviation</th>\n    </tr>\n  </thead>\n  <tbody>\n    <tr>\n      <th>0</th>\n      <td>2</td>\n      <td>2.629530e+01</td>\n      <td>5.135306e+00</td>\n      <td>5.135306e+00</td>\n      <td>2.331468e-15</td>\n      <td>5.950795e-14</td>\n    </tr>\n    <tr>\n      <th>1</th>\n      <td>3</td>\n      <td>9.021445e+02</td>\n      <td>3.030926e+01</td>\n      <td>3.030926e+01</td>\n      <td>1.595267e-13</td>\n      <td>1.154144e-07</td>\n    </tr>\n    <tr>\n      <th>2</th>\n      <td>4</td>\n      <td>4.122162e+04</td>\n      <td>2.076193e+02</td>\n      <td>2.076166e+02</td>\n      <td>1.222689e-12</td>\n      <td>1.367843e+00</td>\n    </tr>\n    <tr>\n      <th>3</th>\n      <td>5</td>\n      <td>2.420631e+06</td>\n      <td>1.625841e+03</td>\n      <td>2.388898e+03</td>\n      <td>1.465479e-10</td>\n      <td>5.317462e+04</td>\n    </tr>\n    <tr>\n      <th>4</th>\n      <td>6</td>\n      <td>1.771534e+08</td>\n      <td>1.438135e+04</td>\n      <td>1.664898e+05</td>\n      <td>4.895763e-09</td>\n      <td>1.903682e+08</td>\n    </tr>\n    <tr>\n      <th>5</th>\n      <td>7</td>\n      <td>1.571251e+10</td>\n      <td>1.420814e+05</td>\n      <td>1.410300e+07</td>\n      <td>8.600731e-07</td>\n      <td>4.562137e+11</td>\n    </tr>\n    <tr>\n      <th>6</th>\n      <td>8</td>\n      <td>1.646899e+12</td>\n      <td>1.550391e+06</td>\n      <td>2.030179e+09</td>\n      <td>8.662786e-05</td>\n      <td>4.528819e+15</td>\n    </tr>\n    <tr>\n      <th>7</th>\n      <td>9</td>\n      <td>1.996358e+14</td>\n      <td>1.848510e+07</td>\n      <td>2.591861e+11</td>\n      <td>6.491102e-03</td>\n      <td>1.747039e+19</td>\n    </tr>\n    <tr>\n      <th>8</th>\n      <td>10</td>\n      <td>3.299927e+16</td>\n      <td>2.383319e+08</td>\n      <td>1.225945e+14</td>\n      <td>3.835917e-01</td>\n      <td>9.766170e+22</td>\n    </tr>\n  </tbody>\n</table>\n</div>"
     },
     "execution_count": 13,
     "metadata": {},
     "output_type": "execute_result"
    }
   ],
   "source": [
    "answer_array = []\n",
    "for n in range(2,11):\n",
    "    A = np.array([[a(i + 1) ** b(j + 1) for j in range(n)] for i in range(n)])\n",
    "    (eig_cond_B, eig_deviation) = sqrt_eig(A)\n",
    "    (newton_cond_B, newton_deviation) = sqrt_newton(A)\n",
    "    answer_array.append([n, np.linalg.cond(A), eig_cond_B, newton_cond_B, eig_deviation, newton_deviation])\n",
    "\n",
    "df = DataFrame(answer_array, columns=[\"n\", \"cond(A)\", \"cond(B_eig)\", \"cond(B_newton)\", \"eig_deviation\", \"newton_deviation\"])\n",
    "df"
   ],
   "metadata": {
    "collapsed": false,
    "pycharm": {
     "name": "#%%\n"
    }
   }
  },
  {
   "cell_type": "markdown",
   "source": [
    "Исходная матрица имеет большие числа обусловленности. У матриц, найденных при помощи собственных чисел и собственных векторов, не самые высокие числа обусловленности и довольно неплохая погрешность. У матриц, найденных при помощи метода Ньютона, числа обусловленности на порядок выше и гораздо хуже погрешность начиная с n = 3."
   ],
   "metadata": {
    "collapsed": false
   }
  }
 ],
 "metadata": {
  "kernelspec": {
   "display_name": "Python 3",
   "language": "python",
   "name": "python3"
  },
  "language_info": {
   "codemirror_mode": {
    "name": "ipython",
    "version": 2
   },
   "file_extension": ".py",
   "mimetype": "text/x-python",
   "name": "python",
   "nbconvert_exporter": "python",
   "pygments_lexer": "ipython2",
   "version": "2.7.6"
  }
 },
 "nbformat": 4,
 "nbformat_minor": 0
}