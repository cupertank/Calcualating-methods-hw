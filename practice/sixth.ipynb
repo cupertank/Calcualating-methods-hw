{
 "cells": [
  {
   "cell_type": "markdown",
   "source": [
    "## Задача 6"
   ],
   "metadata": {
    "collapsed": false,
    "pycharm": {
     "name": "#%% md\n"
    }
   }
  },
  {
   "cell_type": "markdown",
   "source": [
    "### Решить дифференциальное уравнение проекционными методами (задание - 2.8, стр.19, варианты - 2.9, стр.20, по второй части методички).\n",
    "\n",
    "\n",
    "### Вариант 7\n",
    "\n",
    "Граничная задача\n",
    "\n",
    "$-\\frac{4 + x}{5 + 2x}u'' + \\Big(\\frac{x}{2} - 1\\Big)u' + (1 + e^{x/2})u = 2 + x$\n",
    "\n",
    "$u'(-1) = u(1) + 2u'(1) = 0$\n"
   ],
   "metadata": {
    "collapsed": false
   }
  },
  {
   "cell_type": "markdown",
   "source": [
    "Входные данные"
   ],
   "metadata": {
    "collapsed": false,
    "pycharm": {
     "name": "#%% md\n"
    }
   }
  },
  {
   "cell_type": "code",
   "execution_count": 1,
   "metadata": {
    "collapsed": true
   },
   "outputs": [],
   "source": [
    "import numpy as np\n",
    "from math import exp, cos, pi\n",
    "from scipy.integrate import quad\n",
    "from pandas import DataFrame\n",
    "import matplotlib.pyplot as plt\n",
    "\n",
    "def p(x):\n",
    "    return -(4 + x) / (5 + 2 * x)\n",
    "\n",
    "def q(x):\n",
    "    return x / 2 - 1\n",
    "\n",
    "def r(x):\n",
    "    return 1 + exp(x / 2)\n",
    "\n",
    "def f(x):\n",
    "    return 2 + x\n",
    "\n",
    "alpha_1 = 0\n",
    "alpha_2 = -1\n",
    "beta_1  = 1\n",
    "beta_2  = 2\n",
    "\n",
    "c1, c2 = 2, -3\n",
    "d1, d2 = -11, 2"
   ]
  },
  {
   "cell_type": "markdown",
   "source": [
    "Реализации функций $P_n^{(k, k)}(x)$, $W_i(x)$, $\\psi_i(x)$"
   ],
   "metadata": {
    "collapsed": false,
    "pycharm": {
     "name": "#%% md\n"
    }
   }
  },
  {
   "cell_type": "code",
   "execution_count": 2,
   "outputs": [],
   "source": [
    "def P_func(x: float, n: int, k: int) -> float:\n",
    "    if n == 0:\n",
    "        return 1.0\n",
    "\n",
    "    if n == 1:\n",
    "        return (k + 1) * x\n",
    "\n",
    "    prev_funcs = [1.0, (k + 1) * x]\n",
    "    for i in range(2, n + 1):\n",
    "        prev_funcs.append(\n",
    "            ((n + k + 2) * (2 * n + 2 * k + 3) * x * prev_funcs[i - 1] - (n + k + 2) * (n + k + 1) * prev_funcs[i - 2]) /\n",
    "            ((n + 2 * k + 2) * (n + 2))\n",
    "        )\n",
    "    return prev_funcs[n]\n",
    "\n",
    "def W_func(x: float, i: int):\n",
    "    if i == 1:\n",
    "        return (x ** 2) + c1 * x + d1\n",
    "\n",
    "    if i == 2:\n",
    "        return (x ** 3) + c2 * x + d2\n",
    "\n",
    "    return ((1 - (x ** 2)) ** 2) * P_func(x, i - 3, 2)\n",
    "\n",
    "def W_func_derivative(x: float, i: int):\n",
    "    if i == 1:\n",
    "        return 2 * x + c1\n",
    "\n",
    "    if i == 2:\n",
    "        return 3 * (x ** 2) + c2\n",
    "\n",
    "    return -2 * (i - 2) * (1 - (x ** 2)) * P_func(x, i - 2, 1)\n",
    "\n",
    "def W_func_second_derivative(x: float, i: int) -> float:\n",
    "    if i == 1:\n",
    "        return 2\n",
    "\n",
    "    if i == 2:\n",
    "        return 6 * x\n",
    "\n",
    "    return 4 * (i - 2) * (i - 1) * P_func(x, i - 1, 0)\n",
    "\n",
    "def psi_func(x: float, i: int) -> float:\n",
    "    return P_func(x, i, 0)"
   ],
   "metadata": {
    "collapsed": false,
    "pycharm": {
     "name": "#%%\n"
    }
   }
  },
  {
   "cell_type": "markdown",
   "source": [
    "Реализация метода моментов"
   ],
   "metadata": {
    "collapsed": false,
    "pycharm": {
     "name": "#%% md\n"
    }
   }
  },
  {
   "cell_type": "code",
   "execution_count": 3,
   "outputs": [],
   "source": [
    "def moment_method(n):\n",
    "    A = np.zeros((n, n))\n",
    "    for i in range(1, n + 1):\n",
    "        for j in range(1, n + 1):\n",
    "            A[i - 1, j - 1] = quad(lambda x: (p(x) * W_func_second_derivative(x, j) + q(x) * W_func_derivative(x, j) + r(x) * W_func(x, j)) * psi_func(x, i - 1), -1, 1)[0]\n",
    "            # A[i, j] = quad(lambda x: (p(x) * W_second_derivative[j](x) + q(x) * W_derivative[j](x) + r(x) * W_funcs[j](x)) * phi_funcs[i](x), -1, 1)[0]\n",
    "\n",
    "    F = np.zeros((n, 1))\n",
    "    for i in range(1, n):\n",
    "        F[i - 1, 0] = quad(lambda x: f(x) * psi_func(x, i - 1), -1, 1)[0]\n",
    "\n",
    "    c_vector = np.linalg.solve(A, F)\n",
    "    return A, c_vector"
   ],
   "metadata": {
    "collapsed": false,
    "pycharm": {
     "name": "#%%\n"
    }
   }
  },
  {
   "cell_type": "markdown",
   "source": [
    "Реализация метода коллокаций"
   ],
   "metadata": {
    "collapsed": false,
    "pycharm": {
     "name": "#%% md\n"
    }
   }
  },
  {
   "cell_type": "code",
   "execution_count": 4,
   "outputs": [],
   "source": [
    "def coll_method(n: int):\n",
    "    A = np.zeros((n, n))\n",
    "    t = [cos((2 * k - 1) / (2 * n) * pi) for k in range(1, n + 1)]\n",
    "    for i in range(1, n + 1):\n",
    "        for j in range(1, n + 1):\n",
    "            A[i - 1, j - 1] = p(t[i - 1]) * W_func_second_derivative(t[i - 1], j) + q(t[i - 1]) * W_func_derivative(t[i - 1], j) + r(t[i - 1]) * W_func(t[i - 1], j)\n",
    "    F = np.zeros((n, 1))\n",
    "    for i in range(1, n + 1):\n",
    "        F[i - 1, 0] = f(t[i - 1])\n",
    "    c_vector = np.linalg.solve(A, F)\n",
    "    return A, c_vector\n"
   ],
   "metadata": {
    "collapsed": false,
    "pycharm": {
     "name": "#%%\n"
    }
   }
  },
  {
   "cell_type": "markdown",
   "source": [
    "Подсчет $y^n(x)$"
   ],
   "metadata": {
    "collapsed": false,
    "pycharm": {
     "name": "#%% md\n"
    }
   }
  },
  {
   "cell_type": "code",
   "execution_count": 5,
   "outputs": [],
   "source": [
    "def y(x: float, n: int, vector_c: np.ndarray):\n",
    "    ans = 0\n",
    "    for i in range(1, n + 1):\n",
    "        ans += vector_c[i - 1, 0] * W_func(x, i)\n",
    "    return ans"
   ],
   "metadata": {
    "collapsed": false,
    "pycharm": {
     "name": "#%%\n"
    }
   }
  },
  {
   "cell_type": "markdown",
   "source": [
    "Построение таблицы для метода моментов"
   ],
   "metadata": {
    "collapsed": false,
    "pycharm": {
     "name": "#%% md\n"
    }
   }
  },
  {
   "cell_type": "code",
   "execution_count": 6,
   "outputs": [
    {
     "data": {
      "text/plain": "   n    cond(A)  y^n(-0.5)    y^n(0)  y^n(0.5)\n0  3  18.874160   0.933662  0.934389  1.006731\n1  4  20.498177   0.912850  0.948937  0.941063\n2  5  30.595912   0.909636  0.952366  0.939279\n3  6  32.065899   0.905014  0.945837  0.937106\n4  7  39.824563   0.907302  0.945612  0.937503",
      "text/html": "<div>\n<style scoped>\n    .dataframe tbody tr th:only-of-type {\n        vertical-align: middle;\n    }\n\n    .dataframe tbody tr th {\n        vertical-align: top;\n    }\n\n    .dataframe thead th {\n        text-align: right;\n    }\n</style>\n<table border=\"1\" class=\"dataframe\">\n  <thead>\n    <tr style=\"text-align: right;\">\n      <th></th>\n      <th>n</th>\n      <th>cond(A)</th>\n      <th>y^n(-0.5)</th>\n      <th>y^n(0)</th>\n      <th>y^n(0.5)</th>\n    </tr>\n  </thead>\n  <tbody>\n    <tr>\n      <th>0</th>\n      <td>3</td>\n      <td>18.874160</td>\n      <td>0.933662</td>\n      <td>0.934389</td>\n      <td>1.006731</td>\n    </tr>\n    <tr>\n      <th>1</th>\n      <td>4</td>\n      <td>20.498177</td>\n      <td>0.912850</td>\n      <td>0.948937</td>\n      <td>0.941063</td>\n    </tr>\n    <tr>\n      <th>2</th>\n      <td>5</td>\n      <td>30.595912</td>\n      <td>0.909636</td>\n      <td>0.952366</td>\n      <td>0.939279</td>\n    </tr>\n    <tr>\n      <th>3</th>\n      <td>6</td>\n      <td>32.065899</td>\n      <td>0.905014</td>\n      <td>0.945837</td>\n      <td>0.937106</td>\n    </tr>\n    <tr>\n      <th>4</th>\n      <td>7</td>\n      <td>39.824563</td>\n      <td>0.907302</td>\n      <td>0.945612</td>\n      <td>0.937503</td>\n    </tr>\n  </tbody>\n</table>\n</div>"
     },
     "execution_count": 6,
     "metadata": {},
     "output_type": "execute_result"
    }
   ],
   "source": [
    "rows = []\n",
    "for n in range(3, 8):\n",
    "    A, vector_c = moment_method(n)\n",
    "    y_left = y(-0.5, n , vector_c)\n",
    "    y_middle = y(0, n, vector_c)\n",
    "    y_right = y(0.5, n, vector_c)\n",
    "    rows.append([n, np.linalg.cond(A, np.inf), y_left, y_middle, y_right])\n",
    "\n",
    "df = DataFrame(rows, columns=[\"n\", \"cond(A)\", \"y^n(-0.5)\", \"y^n(0)\", \"y^n(0.5)\"])\n",
    "df"
   ],
   "metadata": {
    "collapsed": false,
    "pycharm": {
     "name": "#%%\n"
    }
   }
  },
  {
   "cell_type": "markdown",
   "source": [
    "Построение таблицы для метода коллокации"
   ],
   "metadata": {
    "collapsed": false,
    "pycharm": {
     "name": "#%% md\n"
    }
   }
  },
  {
   "cell_type": "code",
   "execution_count": 7,
   "outputs": [
    {
     "data": {
      "text/plain": "   n    cond(A)  y^n(-0.5)    y^n(0)  y^n(0.5)\n0  3   7.275388   0.902215  0.948357  0.942861\n1  4  10.795623   0.905591  0.945117  0.936109\n2  5  14.674840   0.905553  0.945051  0.935564\n3  6  22.575264   0.905501  0.945052  0.935511\n4  7  37.145988   0.905497  0.945034  0.935508",
      "text/html": "<div>\n<style scoped>\n    .dataframe tbody tr th:only-of-type {\n        vertical-align: middle;\n    }\n\n    .dataframe tbody tr th {\n        vertical-align: top;\n    }\n\n    .dataframe thead th {\n        text-align: right;\n    }\n</style>\n<table border=\"1\" class=\"dataframe\">\n  <thead>\n    <tr style=\"text-align: right;\">\n      <th></th>\n      <th>n</th>\n      <th>cond(A)</th>\n      <th>y^n(-0.5)</th>\n      <th>y^n(0)</th>\n      <th>y^n(0.5)</th>\n    </tr>\n  </thead>\n  <tbody>\n    <tr>\n      <th>0</th>\n      <td>3</td>\n      <td>7.275388</td>\n      <td>0.902215</td>\n      <td>0.948357</td>\n      <td>0.942861</td>\n    </tr>\n    <tr>\n      <th>1</th>\n      <td>4</td>\n      <td>10.795623</td>\n      <td>0.905591</td>\n      <td>0.945117</td>\n      <td>0.936109</td>\n    </tr>\n    <tr>\n      <th>2</th>\n      <td>5</td>\n      <td>14.674840</td>\n      <td>0.905553</td>\n      <td>0.945051</td>\n      <td>0.935564</td>\n    </tr>\n    <tr>\n      <th>3</th>\n      <td>6</td>\n      <td>22.575264</td>\n      <td>0.905501</td>\n      <td>0.945052</td>\n      <td>0.935511</td>\n    </tr>\n    <tr>\n      <th>4</th>\n      <td>7</td>\n      <td>37.145988</td>\n      <td>0.905497</td>\n      <td>0.945034</td>\n      <td>0.935508</td>\n    </tr>\n  </tbody>\n</table>\n</div>"
     },
     "execution_count": 7,
     "metadata": {},
     "output_type": "execute_result"
    }
   ],
   "source": [
    "rows = []\n",
    "for n in range(3, 8):\n",
    "    A, vector_c = coll_method(n)\n",
    "    y_left = y(-0.5, n , vector_c)\n",
    "    y_middle = y(0, n, vector_c)\n",
    "    y_right = y(0.5, n, vector_c)\n",
    "    rows.append([n, np.linalg.cond(A, np.inf), y_left, y_middle, y_right])\n",
    "\n",
    "df = DataFrame(rows, columns=[\"n\", \"cond(A)\", \"y^n(-0.5)\", \"y^n(0)\", \"y^n(0.5)\"])\n",
    "df"
   ],
   "metadata": {
    "collapsed": false,
    "pycharm": {
     "name": "#%%\n"
    }
   }
  },
  {
   "cell_type": "markdown",
   "source": [
    "Графики решений для $n = 7$"
   ],
   "metadata": {
    "collapsed": false,
    "pycharm": {
     "name": "#%% md\n"
    }
   }
  },
  {
   "cell_type": "code",
   "execution_count": 8,
   "outputs": [
    {
     "data": {
      "text/plain": "<Figure size 432x288 with 1 Axes>",
      "image/png": "[encoded data removed]"
     },
     "metadata": {
      "needs_background": "light"
     },
     "output_type": "display_data"
    }
   ],
   "source": [
    "n = 7\n",
    "_, vector_c_moment = moment_method(n)\n",
    "_, vector_c_coll = coll_method(n)\n",
    "\n",
    "x_plot = np.linspace(-1, 1, 100)\n",
    "y_plot_moment = np.array([y(x, n, vector_c_moment) for x in x_plot])\n",
    "\n",
    "y_plot_coll = np.array([y(x, n, vector_c_coll) for x in x_plot])\n",
    "\n",
    "plt.plot(x_plot, y_plot_moment, \"-\", label=\"Метод моментов\")\n",
    "plt.plot(x_plot, y_plot_coll, \"-.\", label=\"Метод коллокации\")\n",
    "plt.legend()\n",
    "plt.show()"
   ],
   "metadata": {
    "collapsed": false,
    "pycharm": {
     "name": "#%%\n"
    }
   }
  }
 ],
 "metadata": {
  "kernelspec": {
   "display_name": "Python 3",
   "language": "python",
   "name": "python3"
  },
  "language_info": {
   "codemirror_mode": {
    "name": "ipython",
    "version": 2
   },
   "file_extension": ".py",
   "mimetype": "text/x-python",
   "name": "python",
   "nbconvert_exporter": "python",
   "pygments_lexer": "ipython2",
   "version": "2.7.6"
  }
 },
 "nbformat": 4,
 "nbformat_minor": 0
}