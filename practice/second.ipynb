{
 "cells": [
  {
   "cell_type": "markdown",
   "source": [
    " ## Задача 2"
   ],
   "metadata": {
    "collapsed": false
   }
  },
  {
   "cell_type": "markdown",
   "source": [
    "### Решить систему, реализовав итерационные методы, указанные в варианте (варианты - 12.7 по методичке, стр.101, матрицы - из предыдущего задания, 11.6, стр.94).\n",
    "### Вариант 7"
   ],
   "metadata": {
    "collapsed": false
   }
  },
  {
   "cell_type": "markdown",
   "source": [
    "$\n",
    "A =\n",
    "\\begin{pmatrix}\n",
    "    9.331343 & 1.120045 & -2.880925 \\\\\n",
    "    1.120045 & 7.086042 & 0.670297 \\\\\n",
    "    -2.880925 & 0.670297 & 5.622534\n",
    "\\end{pmatrix}\n",
    "$\n",
    "\n",
    "$\n",
    "b =\n",
    "\\begin{pmatrix}\n",
    "    7.570463 \\\\\n",
    "    8.876384 \\\\\n",
    "    3.411906\n",
    "\\end{pmatrix}\n",
    "$\n",
    "\n",
    "$k = 7$"
   ],
   "metadata": {
    "collapsed": false,
    "pycharm": {
     "name": "#%% md\n"
    }
   }
  },
  {
   "cell_type": "markdown",
   "source": [
    "Входные данные"
   ],
   "metadata": {
    "collapsed": false,
    "pycharm": {
     "name": "#%% md\n"
    }
   }
  },
  {
   "cell_type": "code",
   "execution_count": 1,
   "metadata": {
    "collapsed": true,
    "pycharm": {
     "name": "#%%\n"
    }
   },
   "outputs": [],
   "source": [
    "import maths\n",
    "import numpy as np\n",
    "from math import sqrt\n",
    "\n",
    "A = np.array([\n",
    "    [9.331343, 1.120045, -2.880925],\n",
    "    [1.120045, 7.086042, 0.670297],\n",
    "    [-2.880925, 0.670297, 5.622534]\n",
    "], dtype=np.float64)\n",
    "\n",
    "b = np.array([7.570463, 8.876384, 3.411906], dtype=np.float64).reshape([3, 1])\n",
    "\n",
    "k = 7"
   ]
  },
  {
   "cell_type": "markdown",
   "source": [
    "Решение методом Гаусса"
   ],
   "metadata": {
    "collapsed": false,
    "pycharm": {
     "name": "#%% md\n"
    }
   }
  },
  {
   "cell_type": "code",
   "execution_count": 2,
   "outputs": [
    {
     "data": {
      "text/plain": "array([[1.],\n       [1.],\n       [1.]])"
     },
     "execution_count": 2,
     "metadata": {},
     "output_type": "execute_result"
    }
   ],
   "source": [
    "correct_x = maths.gaussian_method(A, b)\n",
    "correct_x"
   ],
   "metadata": {
    "collapsed": false,
    "pycharm": {
     "name": "#%%\n"
    }
   }
  },
  {
   "cell_type": "markdown",
   "source": [
    "Нахождение $H_d$, $g_d$ и $\\|H_d\\|_\\infty$"
   ],
   "metadata": {
    "collapsed": false,
    "pycharm": {
     "name": "#%% md\n"
    }
   }
  },
  {
   "cell_type": "code",
   "execution_count": 3,
   "outputs": [
    {
     "name": "stdout",
     "output_type": "stream",
     "text": [
      "H_d = \n",
      "[[ 0.         -0.12003042  0.30873637]\n",
      " [-0.15806356  0.         -0.09459399]\n",
      " [ 0.51238908 -0.11921618  0.        ]]\n",
      "\n",
      "g_d = \n",
      "[[0.81129404]\n",
      " [1.25265755]\n",
      " [0.6068271 ]]\n",
      "\n",
      "norm(H_d) = 0.6316052512977246\n"
     ]
    }
   ],
   "source": [
    "diagonals_A = np.diag(np.diag(A))\n",
    "inv_diagonals_A = np.linalg.inv(diagonals_A)\n",
    "H_d = np.eye(A.shape[0], dtype=A.dtype) - inv_diagonals_A.dot(A)\n",
    "\n",
    "norm_H_d = np.linalg.norm(H_d, ord=np.inf)\n",
    "\n",
    "g_d = inv_diagonals_A.dot(b)\n",
    "\n",
    "norm_g_d = np.linalg.norm(g_d, ord=np.inf)\n",
    "print(f\"H_d = \\n{H_d}\\n\")\n",
    "print(f\"g_d = \\n{g_d}\\n\")\n",
    "print(f\"norm(H_d) = {norm_H_d}\")"
   ],
   "metadata": {
    "collapsed": false,
    "pycharm": {
     "name": "#%%\n"
    }
   }
  },
  {
   "cell_type": "markdown",
   "source": [
    "Априорная оценка"
   ],
   "metadata": {
    "collapsed": false,
    "pycharm": {
     "name": "#%% md\n"
    }
   }
  },
  {
   "cell_type": "code",
   "execution_count": 4,
   "outputs": [
    {
     "data": {
      "text/plain": "0.13634494907408518"
     },
     "execution_count": 4,
     "metadata": {},
     "output_type": "execute_result"
    }
   ],
   "source": [
    "apriori_estimate = (norm_H_d ** k) * norm_g_d / (1 - norm_H_d)\n",
    "apriori_estimate"
   ],
   "metadata": {
    "collapsed": false,
    "pycharm": {
     "name": "#%%\n"
    }
   }
  },
  {
   "cell_type": "markdown",
   "source": [
    "Метод простой итерации"
   ],
   "metadata": {
    "collapsed": false,
    "pycharm": {
     "name": "#%% md\n"
    }
   }
  },
  {
   "cell_type": "code",
   "execution_count": 5,
   "outputs": [],
   "source": [
    "def simple_iteration_method(H: np.ndarray, g: np.ndarray, count: int):\n",
    "    prev_x = np.zeros(g.shape, dtype=g.dtype)\n",
    "    x = prev_x.copy()\n",
    "    for i in range(count):\n",
    "        prev_x = x.copy()\n",
    "        x = H.dot(prev_x) + g\n",
    "    return prev_x, x"
   ],
   "metadata": {
    "collapsed": false,
    "pycharm": {
     "name": "#%%\n"
    }
   }
  },
  {
   "cell_type": "markdown",
   "source": [
    "Решение методом простых итераций"
   ],
   "metadata": {
    "collapsed": false,
    "pycharm": {
     "name": "#%% md\n"
    }
   }
  },
  {
   "cell_type": "code",
   "execution_count": 6,
   "outputs": [
    {
     "data": {
      "text/plain": "array([[0.9976332 ],\n       [1.00160563],\n       [0.99634648]])"
     },
     "execution_count": 6,
     "metadata": {},
     "output_type": "execute_result"
    }
   ],
   "source": [
    "(prev_simple_x, simple_x) = simple_iteration_method(H_d, g_d, k)\n",
    "simple_x"
   ],
   "metadata": {
    "collapsed": false,
    "pycharm": {
     "name": "#%%\n"
    }
   }
  },
  {
   "cell_type": "markdown",
   "source": [
    "Апостериорная оценка"
   ],
   "metadata": {
    "collapsed": false,
    "pycharm": {
     "name": "#%% md\n"
    }
   }
  },
  {
   "cell_type": "code",
   "execution_count": 7,
   "outputs": [
    {
     "data": {
      "text/plain": "0.006829710518038748"
     },
     "execution_count": 7,
     "metadata": {},
     "output_type": "execute_result"
    }
   ],
   "source": [
    "aposterior_estimate = norm_H_d / (1 - norm_H_d) * np.linalg.norm(simple_x - prev_simple_x, ord=np.inf)\n",
    "aposterior_estimate"
   ],
   "metadata": {
    "collapsed": false,
    "pycharm": {
     "name": "#%%\n"
    }
   }
  },
  {
   "cell_type": "markdown",
   "source": [
    "Фактическая погрешность метода простых итераций"
   ],
   "metadata": {
    "collapsed": false,
    "pycharm": {
     "name": "#%% md\n"
    }
   }
  },
  {
   "cell_type": "code",
   "execution_count": 8,
   "outputs": [
    {
     "data": {
      "text/plain": "array([[0.0023668 ],\n       [0.00160563],\n       [0.00365352]])"
     },
     "execution_count": 8,
     "metadata": {},
     "output_type": "execute_result"
    }
   ],
   "source": [
    "fact_simple_error = np.abs(correct_x - simple_x)\n",
    "fact_simple_error"
   ],
   "metadata": {
    "collapsed": false,
    "pycharm": {
     "name": "#%%\n"
    }
   }
  },
  {
   "cell_type": "markdown",
   "source": [
    "Уточнение последнего приближения по Люстернику"
   ],
   "metadata": {
    "collapsed": false,
    "pycharm": {
     "name": "#%% md\n"
    }
   }
  },
  {
   "cell_type": "code",
   "execution_count": 9,
   "outputs": [
    {
     "data": {
      "text/plain": "array([[1.0010566 ],\n       [1.00010442],\n       [0.99867472]])"
     },
     "execution_count": 9,
     "metadata": {},
     "output_type": "execute_result"
    }
   ],
   "source": [
    "spectral_radius_H_d = np.linalg.eigvals(H_d).max()\n",
    "luster_x = prev_simple_x + 1 / (1 - spectral_radius_H_d) * (simple_x - prev_simple_x)\n",
    "luster_x"
   ],
   "metadata": {
    "collapsed": false,
    "pycharm": {
     "name": "#%%\n"
    }
   }
  },
  {
   "cell_type": "markdown",
   "source": [
    "Фактическая погрешность"
   ],
   "metadata": {
    "collapsed": false,
    "pycharm": {
     "name": "#%% md\n"
    }
   }
  },
  {
   "cell_type": "code",
   "execution_count": 10,
   "outputs": [
    {
     "data": {
      "text/plain": "array([[0.0010566 ],\n       [0.00010442],\n       [0.00132528]])"
     },
     "execution_count": 10,
     "metadata": {},
     "output_type": "execute_result"
    }
   ],
   "source": [
    "fact_luster_error = np.abs(correct_x - luster_x)\n",
    "fact_luster_error"
   ],
   "metadata": {
    "collapsed": false,
    "pycharm": {
     "name": "#%%\n"
    }
   }
  },
  {
   "cell_type": "markdown",
   "source": [
    "Метод Зейделя"
   ],
   "metadata": {
    "collapsed": false,
    "pycharm": {
     "name": "#%% md\n"
    }
   }
  },
  {
   "cell_type": "code",
   "execution_count": 11,
   "outputs": [],
   "source": [
    "def seidel_method(H: np.ndarray, g: np.ndarray, count: int):\n",
    "    H_l = H.copy()\n",
    "    H_r = H.copy()\n",
    "    for i in range(H.shape[0]):\n",
    "        for j in range(H.shape[1]):\n",
    "            if i < j:\n",
    "                H_l[i, j] = 0\n",
    "            else:\n",
    "                H_r[i, j] = 0\n",
    "\n",
    "    H_seid = np.linalg.inv(np.eye(H.shape[0], dtype=H.dtype) - H_l).dot(H_r)\n",
    "    g_seid = np.linalg.inv(np.eye(H.shape[0], dtype=H.dtype) - H_l).dot(g)\n",
    "    H_seid_spectral_radius = np.linalg.eigvals(H_seid).max()\n",
    "\n",
    "    prev_x = np.zeros(g.shape, dtype=g.dtype)\n",
    "    x = prev_x.copy()\n",
    "    for i in range(count):\n",
    "        prev_x = x.copy()\n",
    "        x = H_seid.dot(prev_x) + g_seid\n",
    "\n",
    "    return x, H_seid_spectral_radius"
   ],
   "metadata": {
    "collapsed": false,
    "pycharm": {
     "name": "#%%\n"
    }
   }
  },
  {
   "cell_type": "markdown",
   "source": [
    "Решение методом Зейделя"
   ],
   "metadata": {
    "collapsed": false,
    "pycharm": {
     "name": "#%% md\n"
    }
   }
  },
  {
   "cell_type": "code",
   "execution_count": 12,
   "outputs": [
    {
     "data": {
      "text/plain": "array([[0.99997462],\n       [1.0000101 ],\n       [0.99998579]])"
     },
     "execution_count": 12,
     "metadata": {},
     "output_type": "execute_result"
    }
   ],
   "source": [
    "(seidel_x, seidel_spectral_radius) = seidel_method(H_d, g_d, k)\n",
    "seidel_x"
   ],
   "metadata": {
    "collapsed": false,
    "pycharm": {
     "name": "#%%\n"
    }
   }
  },
  {
   "cell_type": "markdown",
   "source": [
    "Фактическая погрешность метода Зейделя"
   ],
   "metadata": {
    "collapsed": false,
    "pycharm": {
     "name": "#%% md\n"
    }
   }
  },
  {
   "cell_type": "code",
   "execution_count": 13,
   "outputs": [],
   "source": [
    "seidel_fact_error = np.abs(correct_x - seidel_x)"
   ],
   "metadata": {
    "collapsed": false,
    "pycharm": {
     "name": "#%%\n"
    }
   }
  },
  {
   "cell_type": "markdown",
   "source": [
    "Спектральный радиус матрицы перехода метода Зейделя"
   ],
   "metadata": {
    "collapsed": false,
    "pycharm": {
     "name": "#%% md\n"
    }
   }
  },
  {
   "cell_type": "code",
   "execution_count": 14,
   "outputs": [
    {
     "data": {
      "text/plain": "0.22062932793191173"
     },
     "execution_count": 14,
     "metadata": {},
     "output_type": "execute_result"
    }
   ],
   "source": [
    "seidel_spectral_radius"
   ],
   "metadata": {
    "collapsed": false,
    "pycharm": {
     "name": "#%%\n"
    }
   }
  },
  {
   "cell_type": "markdown",
   "source": [
    "Метод верхней релаксации"
   ],
   "metadata": {
    "collapsed": false,
    "pycharm": {
     "name": "#%% md\n"
    }
   }
  },
  {
   "cell_type": "code",
   "execution_count": 15,
   "outputs": [],
   "source": [
    "def upper_relaxations(H: np.ndarray, g: np.ndarray, count: int):\n",
    "    H_spectral_radius = np.linalg.eigvals(H).max()\n",
    "    q_opt = 2 / (1 +  sqrt(1 - H_spectral_radius ** 2))\n",
    "\n",
    "    x = np.zeros(g.shape, dtype=g.dtype)\n",
    "    n = H.shape[0]\n",
    "    for cnt in range(count):\n",
    "        prev_x = x.copy()\n",
    "        for i in range(n):\n",
    "            temp = -prev_x[i, 0] + g[i, 0]\n",
    "            for j in range(n):\n",
    "                if j <= i - 1:\n",
    "                    temp += H[i, j] * x[j, 0]\n",
    "                if j >= i + 1:\n",
    "                    temp += H[i, j] * prev_x[j, 0]\n",
    "            x[i, 0] = prev_x[i, 0] + q_opt * temp\n",
    "    return x"
   ],
   "metadata": {
    "collapsed": false,
    "pycharm": {
     "name": "#%%\n"
    }
   }
  },
  {
   "cell_type": "markdown",
   "source": [
    "Решение методом верхней релаксации"
   ],
   "metadata": {
    "collapsed": false,
    "pycharm": {
     "name": "#%% md\n"
    }
   }
  },
  {
   "cell_type": "code",
   "execution_count": 16,
   "outputs": [
    {
     "data": {
      "text/plain": "array([[0.99999973],\n       [1.00000015],\n       [0.99999991]])"
     },
     "execution_count": 16,
     "metadata": {},
     "output_type": "execute_result"
    }
   ],
   "source": [
    "upper_relaxations_x = upper_relaxations(H_d, g_d, k)\n",
    "upper_relaxations_x"
   ],
   "metadata": {
    "collapsed": false,
    "pycharm": {
     "name": "#%%\n"
    }
   }
  },
  {
   "cell_type": "markdown",
   "source": [
    "Фактическая погрешность метода верхней релаксации"
   ],
   "metadata": {
    "collapsed": false,
    "pycharm": {
     "name": "#%% md\n"
    }
   }
  },
  {
   "cell_type": "code",
   "execution_count": 17,
   "outputs": [
    {
     "data": {
      "text/plain": "array([[2.67080491e-07],\n       [1.53320792e-07],\n       [8.85392536e-08]])"
     },
     "execution_count": 17,
     "metadata": {},
     "output_type": "execute_result"
    }
   ],
   "source": [
    "upper_relaxations_fact_error = np.abs(correct_x - upper_relaxations_x)\n",
    "upper_relaxations_fact_error"
   ],
   "metadata": {
    "collapsed": false,
    "pycharm": {
     "name": "#%%\n"
    }
   }
  }
 ],
 "metadata": {
  "kernelspec": {
   "display_name": "Python 3",
   "language": "python",
   "name": "python3"
  },
  "language_info": {
   "codemirror_mode": {
    "name": "ipython",
    "version": 2
   },
   "file_extension": ".py",
   "mimetype": "text/x-python",
   "name": "python",
   "nbconvert_exporter": "python",
   "pygments_lexer": "ipython2",
   "version": "2.7.6"
  }
 },
 "nbformat": 4,
 "nbformat_minor": 0
}