{
 "cells": [
  {
   "cell_type": "markdown",
   "source": [
    "## Задача 1. Матричные и векторные нормы. Обусловленность систем линейных алгебраических уравнений (СЛАУ)."
   ],
   "metadata": {
    "collapsed": false
   }
  },
  {
   "cell_type": "markdown",
   "source": [
    "### Задание первое: решить две системы (одну с “точной” правой частью, вторую с изменённой), найти число обусловленности исходной матрицы, посчитать фактическую погрешность и оценку погрешности (задание - 10.4, варианты - 10.5 по методичке, стр.90). Затем реализовать три метода: Гаусса с выбором главного элемента (по желанию) для решения СЛАУ, метод Жордана для нахождения обратной матрицы и метод LU-разложения для нахождения определителя матрицы (варианты - 11.6 по методичке, стр.94).\n",
    "### Вариант 7\n",
    "### Первая часть"
   ],
   "metadata": {
    "collapsed": false
   }
  },
  {
   "cell_type": "markdown",
   "source": [
    "$\n",
    "A =\n",
    "\\begin{pmatrix}\n",
    "    -402.90 & 200.7 \\\\\n",
    "    1204.20 & -603.6\n",
    "\\end{pmatrix}\n",
    "$"
   ],
   "metadata": {
    "collapsed": false
   }
  },
  {
   "cell_type": "markdown",
   "source": [
    "Входные данные"
   ],
   "metadata": {
    "collapsed": false,
    "pycharm": {
     "name": "#%% md\n"
    }
   }
  },
  {
   "cell_type": "code",
   "execution_count": 1,
   "outputs": [],
   "source": [
    "import numpy as np\n",
    "\n",
    "A = np.array([\n",
    "    [-402.90, 200.7],\n",
    "    [1204.20, -603.6]\n",
    "], dtype=np.float64)\n",
    "\n",
    "b = np.array([\n",
    "    [200],\n",
    "    [-600]\n",
    "], dtype=np.float64)\n",
    "\n",
    "b_other = np.array([\n",
    "    [199],\n",
    "    [-601]\n",
    "], dtype=np.float64)"
   ],
   "metadata": {
    "collapsed": false,
    "pycharm": {
     "name": "#%%\n"
    }
   }
  },
  {
   "cell_type": "markdown",
   "source": [
    "Conditional numbers:"
   ],
   "metadata": {
    "collapsed": false,
    "pycharm": {
     "name": "#%% md\n"
    }
   }
  },
  {
   "cell_type": "code",
   "execution_count": 2,
   "outputs": [
    {
     "name": "stdout",
     "output_type": "stream",
     "text": [
      "Cond(A) = 1338.0029850746614\n"
     ]
    }
   ],
   "source": [
    "cond_A = np.linalg.cond(A, p='fro')\n",
    "print(f\"Cond(A) = {cond_A}\")\n"
   ],
   "metadata": {
    "collapsed": false,
    "pycharm": {
     "name": "#%%\n"
    }
   }
  },
  {
   "cell_type": "markdown",
   "source": [
    "Solve $Ax = b$"
   ],
   "metadata": {
    "collapsed": false,
    "pycharm": {
     "name": "#%% md\n"
    }
   }
  },
  {
   "cell_type": "code",
   "execution_count": 3,
   "outputs": [
    {
     "data": {
      "text/plain": "array([[-0.19900498],\n       [ 0.59701493]])"
     },
     "execution_count": 3,
     "metadata": {},
     "output_type": "execute_result"
    }
   ],
   "source": [
    "x = np.linalg.solve(A, b)\n",
    "x"
   ],
   "metadata": {
    "collapsed": false,
    "pycharm": {
     "name": "#%%\n"
    }
   }
  },
  {
   "cell_type": "markdown",
   "source": [
    "Solve $A\\overline{x} = \\overline{b}$"
   ],
   "metadata": {
    "collapsed": false,
    "pycharm": {
     "name": "#%% md\n"
    }
   }
  },
  {
   "cell_type": "code",
   "execution_count": 4,
   "outputs": [
    {
     "data": {
      "text/plain": "array([[0.33452736],\n       [1.66308458]])"
     },
     "execution_count": 4,
     "metadata": {},
     "output_type": "execute_result"
    }
   ],
   "source": [
    "x_other = np.linalg.solve(A, b_other)\n",
    "x_other"
   ],
   "metadata": {
    "collapsed": false,
    "pycharm": {
     "name": "#%%\n"
    }
   }
  },
  {
   "cell_type": "markdown",
   "source": [
    "Relative actual error $\\delta x = \\|\\overline{x} - x\\| / \\|x\\|$"
   ],
   "metadata": {
    "collapsed": false,
    "pycharm": {
     "name": "#%% md\n"
    }
   }
  },
  {
   "cell_type": "code",
   "execution_count": 5,
   "outputs": [
    {
     "name": "stdout",
     "output_type": "stream",
     "text": [
      "Relative actual error = 1.8943391987709555\n"
     ]
    }
   ],
   "source": [
    "relative_actual_error = np.linalg.norm(x - x_other, ord='fro') / np.linalg.norm(x, ord='fro')\n",
    "print(f\"Relative actual error = {relative_actual_error}\")"
   ],
   "metadata": {
    "collapsed": false,
    "pycharm": {
     "name": "#%%\n"
    }
   }
  },
  {
   "cell_type": "markdown",
   "source": [
    "Error estimate"
   ],
   "metadata": {
    "collapsed": false,
    "pycharm": {
     "name": "#%% md\n"
    }
   }
  },
  {
   "cell_type": "code",
   "execution_count": 6,
   "outputs": [
    {
     "name": "stdout",
     "output_type": "stream",
     "text": [
      "Error estimate = 2.9918656287245793\n"
     ]
    }
   ],
   "source": [
    "error_estimate = cond_A * (np.linalg.norm(b - b_other, ord='fro') / np.linalg.norm(b, ord='fro'))\n",
    "print(f\"Error estimate = {error_estimate}\")"
   ],
   "metadata": {
    "collapsed": false,
    "pycharm": {
     "name": "#%%\n"
    }
   }
  },
  {
   "cell_type": "markdown",
   "source": [
    "### Вторая часть"
   ],
   "metadata": {
    "collapsed": false,
    "pycharm": {
     "name": "#%% md\n"
    }
   }
  },
  {
   "cell_type": "markdown",
   "source": [
    "$\n",
    "A =\n",
    "\\begin{pmatrix}\n",
    "    9.331343 & 1.120045 & -2.880925 \\\\\n",
    "    1.120045 & 7.086042 & 0.670297 \\\\\n",
    "    -2.880925 & 0.670297 & 5.622534\n",
    "\\end{pmatrix}\n",
    "$\n",
    "\n",
    "$\n",
    "b =\n",
    "\\begin{pmatrix}\n",
    "    7.570463 \\\\\n",
    "    8.876384 \\\\\n",
    "    3.411906\n",
    "\\end{pmatrix}\n",
    "$"
   ],
   "metadata": {
    "collapsed": false,
    "pycharm": {
     "name": "#%% md\n"
    }
   }
  },
  {
   "cell_type": "markdown",
   "source": [
    "Входные данные"
   ],
   "metadata": {
    "collapsed": false,
    "pycharm": {
     "name": "#%% md\n"
    }
   }
  },
  {
   "cell_type": "code",
   "execution_count": 7,
   "outputs": [],
   "source": [
    "A = np.array([\n",
    "    [9.331343, 1.120045, -2.880925],\n",
    "    [1.120045, 7.086042, 0.670297],\n",
    "    [-2.880925, 0.670297, 5.622534]\n",
    "], dtype=np.float64)\n",
    "\n",
    "b = np.array([7.570463, 8.876384, 3.411906], dtype=np.float64).reshape([3, 1])"
   ],
   "metadata": {
    "collapsed": false,
    "pycharm": {
     "name": "#%%\n"
    }
   }
  },
  {
   "cell_type": "markdown",
   "source": [
    "Функция выбора главного элемента. Возвращает перестановки для $x$"
   ],
   "metadata": {
    "collapsed": false,
    "pycharm": {
     "name": "#%% md\n"
    }
   }
  },
  {
   "cell_type": "code",
   "execution_count": 8,
   "outputs": [],
   "source": [
    "def choose_main_element(A: np.ndarray) -> np.ndarray:\n",
    "    n = A.shape[0]\n",
    "\n",
    "    x_permutations = np.arange(0, n)\n",
    "    for k in range(n):\n",
    "        temp_matrix = A[k:n, k:n]\n",
    "        i, j = np.unravel_index(np.abs(temp_matrix).argmax(), temp_matrix.shape)\n",
    "        i += k\n",
    "        j += k\n",
    "        A[[k, i]] = A[[i, k]]\n",
    "        A[:, [k, j]] = A[:, [j, k]]\n",
    "\n",
    "        temp = x_permutations[k]\n",
    "        x_permutations[k] = x_permutations[j]\n",
    "        x_permutations[j] = temp\n",
    "\n",
    "    return x_permutations"
   ],
   "metadata": {
    "collapsed": false,
    "pycharm": {
     "name": "#%%\n"
    }
   }
  },
  {
   "cell_type": "markdown",
   "source": [
    "Метод Гаусса"
   ],
   "metadata": {
    "collapsed": false,
    "pycharm": {
     "name": "#%% md\n"
    }
   }
  },
  {
   "cell_type": "code",
   "execution_count": 9,
   "outputs": [],
   "source": [
    "def gaussian_method(A: np.ndarray, b: np.ndarray) -> np.ndarray:\n",
    "    concat_A = np.append(A, b, axis=1)\n",
    "    x_permutations = choose_main_element(concat_A)\n",
    "\n",
    "    n = A.shape[0]\n",
    "    # Forward\n",
    "    for k in range(n):\n",
    "        tmp = concat_A[k, k]\n",
    "        if (tmp != 0):\n",
    "            for j in range(k, n + 1):\n",
    "                concat_A[k, j] /= tmp\n",
    "\n",
    "        for i in range(k + 1, n):\n",
    "            tmp = concat_A[i, k]\n",
    "            for j in range(k, n + 1):\n",
    "                concat_A[i, j] -= concat_A[k, j] * tmp\n",
    "\n",
    "    # Backward\n",
    "    X = np.empty([n, 1], dtype=np.float64)\n",
    "    for i in reversed(range(n)):\n",
    "        perm_index_i = x_permutations[i]\n",
    "        X[perm_index_i] = concat_A[i, n]\n",
    "        for j in range(i + 1, n):\n",
    "            perm_index_j = x_permutations[j]\n",
    "            X[perm_index_i] -= concat_A[i, j] * X[perm_index_j]\n",
    "\n",
    "    return X"
   ],
   "metadata": {
    "collapsed": false,
    "pycharm": {
     "name": "#%%\n"
    }
   }
  },
  {
   "cell_type": "markdown",
   "source": [
    "Решение $Ax = b$ методом Гаусса"
   ],
   "metadata": {
    "collapsed": false,
    "pycharm": {
     "name": "#%% md\n"
    }
   }
  },
  {
   "cell_type": "code",
   "execution_count": 10,
   "outputs": [
    {
     "data": {
      "text/plain": "array([[1.],\n       [1.],\n       [1.]])"
     },
     "execution_count": 10,
     "metadata": {},
     "output_type": "execute_result"
    }
   ],
   "source": [
    "X = gaussian_method(A, b)\n",
    "X"
   ],
   "metadata": {
    "collapsed": false,
    "pycharm": {
     "name": "#%%\n"
    }
   }
  },
  {
   "cell_type": "markdown",
   "source": [
    "Вывод $A * x$"
   ],
   "metadata": {
    "collapsed": false,
    "pycharm": {
     "name": "#%% md\n"
    }
   }
  },
  {
   "cell_type": "code",
   "execution_count": 11,
   "outputs": [
    {
     "data": {
      "text/plain": "array([[7.570463],\n       [8.876384],\n       [3.411906]])"
     },
     "execution_count": 11,
     "metadata": {},
     "output_type": "execute_result"
    }
   ],
   "source": [
    "A.dot(X)"
   ],
   "metadata": {
    "collapsed": false,
    "pycharm": {
     "name": "#%%\n"
    }
   }
  },
  {
   "cell_type": "markdown",
   "source": [
    "Вывод $b$"
   ],
   "metadata": {
    "collapsed": false,
    "pycharm": {
     "name": "#%% md\n"
    }
   }
  },
  {
   "cell_type": "code",
   "execution_count": 12,
   "outputs": [
    {
     "data": {
      "text/plain": "array([[7.570463],\n       [8.876384],\n       [3.411906]])"
     },
     "execution_count": 12,
     "metadata": {},
     "output_type": "execute_result"
    }
   ],
   "source": [
    "b"
   ],
   "metadata": {
    "collapsed": false,
    "pycharm": {
     "name": "#%%\n"
    }
   }
  },
  {
   "cell_type": "markdown",
   "source": [
    "Метод Гаусса"
   ],
   "metadata": {
    "collapsed": false,
    "pycharm": {
     "name": "#%% md\n"
    }
   }
  },
  {
   "cell_type": "code",
   "execution_count": 13,
   "outputs": [],
   "source": [
    "def jordan_method(A: np.ndarray, b: np.ndarray) -> np.ndarray:\n",
    "    concat_A = np.append(A, b, axis=1)\n",
    "    x_permutations = choose_main_element(concat_A)\n",
    "\n",
    "    n = A.shape[0]\n",
    "    # Forward\n",
    "    for k in range(n):\n",
    "        tmp = concat_A[k, k]\n",
    "        if (tmp != 0):\n",
    "            for j in range(k, n + 1):\n",
    "                concat_A[k, j] /= tmp\n",
    "\n",
    "        for i in range(n):\n",
    "            if i == k:\n",
    "                continue\n",
    "\n",
    "            tmp = concat_A[i, k]\n",
    "            for j in range(k, n + 1):\n",
    "                concat_A[i, j] -= concat_A[k, j] * tmp\n",
    "\n",
    "    # Backward\n",
    "    X = np.empty([n, 1], dtype=np.float64)\n",
    "    for i in reversed(range(n)):\n",
    "        perm_index_i = x_permutations[i]\n",
    "        X[perm_index_i] = concat_A[i, n]\n",
    "        for j in range(i + 1, n):\n",
    "            perm_index_j = x_permutations[j]\n",
    "            X[perm_index_i] -= concat_A[i, j] * X[perm_index_j]\n",
    "\n",
    "    return X"
   ],
   "metadata": {
    "collapsed": false,
    "pycharm": {
     "name": "#%%\n"
    }
   }
  },
  {
   "cell_type": "markdown",
   "source": [
    "Построение обратной матрицы $A^{-1}$"
   ],
   "metadata": {
    "collapsed": false,
    "pycharm": {
     "name": "#%% md\n"
    }
   }
  },
  {
   "cell_type": "code",
   "execution_count": 14,
   "outputs": [
    {
     "data": {
      "text/plain": "array([[ 0.13245943, -0.02766921,  0.07116938],\n       [-0.02766921,  0.14851188, -0.03188242],\n       [ 0.07116938, -0.03188242,  0.21812306]])"
     },
     "execution_count": 14,
     "metadata": {},
     "output_type": "execute_result"
    }
   ],
   "source": [
    "ans = []\n",
    "n = A.shape[0]\n",
    "for i in range(n):\n",
    "    temp_b = np.zeros([n, 1], dtype=np.float64)\n",
    "    temp_b[i, 0] = 1\n",
    "    ans.append(jordan_method(A, temp_b))\n",
    "\n",
    "inverse_matrix = np.concatenate(ans, axis=1)\n",
    "inverse_matrix"
   ],
   "metadata": {
    "collapsed": false,
    "pycharm": {
     "name": "#%%\n"
    }
   }
  },
  {
   "cell_type": "markdown",
   "source": [
    "Проверка через умножение $A * A^{-1}$"
   ],
   "metadata": {
    "collapsed": false,
    "pycharm": {
     "name": "#%% md\n"
    }
   }
  },
  {
   "cell_type": "code",
   "execution_count": 15,
   "outputs": [
    {
     "data": {
      "text/plain": "array([[ 1.00000000e+00, -2.25218858e-17, -1.42236831e-16],\n       [-2.11130520e-17,  1.00000000e+00,  2.23180183e-17],\n       [ 2.58299402e-17, -1.75842952e-17,  1.00000000e+00]])"
     },
     "execution_count": 15,
     "metadata": {},
     "output_type": "execute_result"
    }
   ],
   "source": [
    "I = A.dot(inverse_matrix)\n",
    "I"
   ],
   "metadata": {
    "collapsed": false,
    "pycharm": {
     "name": "#%%\n"
    }
   }
  },
  {
   "cell_type": "markdown",
   "source": [
    "LU разложение"
   ],
   "metadata": {
    "collapsed": false,
    "pycharm": {
     "name": "#%% md\n"
    }
   }
  },
  {
   "cell_type": "code",
   "execution_count": 16,
   "outputs": [],
   "source": [
    "def LU_decomposition(A: np.ndarray):\n",
    "    L = np.zeros(A.shape)\n",
    "    U = np.zeros(A.shape)\n",
    "\n",
    "    for i in range(n):\n",
    "        for j in range(i, n):\n",
    "            L[j, i] = A[j, i]\n",
    "            for k in range(i):\n",
    "                L[j, i] -= L[j, k] * U[k, i]\n",
    "\n",
    "        for j in range(i, n):\n",
    "            U[i, j] = A[i, j]\n",
    "            for k in range(i):\n",
    "                U[i, j] -= L[i, k] * U[k, j]\n",
    "            U[i, j] /= L[i, i]\n",
    "    return L, U"
   ],
   "metadata": {
    "collapsed": false,
    "pycharm": {
     "name": "#%%\n"
    }
   }
  },
  {
   "cell_type": "markdown",
   "source": [
    "Вычисление определителя матрицы $L$ и $A$"
   ],
   "metadata": {
    "collapsed": false,
    "pycharm": {
     "name": "#%% md\n"
    }
   }
  },
  {
   "cell_type": "code",
   "execution_count": 17,
   "outputs": [
    {
     "name": "stdout",
     "output_type": "stream",
     "text": [
      "Det(A) = 297.3907770535562\n",
      "Det(L) = 297.3907770535562\n"
     ]
    }
   ],
   "source": [
    "L, U = LU_decomposition(A)\n",
    "\n",
    "det_A = np.linalg.det(A)\n",
    "det_L = 1.0\n",
    "for i in range(n):\n",
    "    det_L *= L[i, i]\n",
    "if n == 0:\n",
    "    det_L = 0.0\n",
    "\n",
    "print(f\"Det(A) = {det_A}\")\n",
    "print(f\"Det(L) = {det_L}\")"
   ],
   "metadata": {
    "collapsed": false,
    "pycharm": {
     "name": "#%%\n"
    }
   }
  }
 ],
 "metadata": {
  "kernelspec": {
   "display_name": "Python 3",
   "language": "python",
   "name": "python3"
  },
  "language_info": {
   "codemirror_mode": {
    "name": "ipython",
    "version": 2
   },
   "file_extension": ".py",
   "mimetype": "text/x-python",
   "name": "python",
   "nbconvert_exporter": "python",
   "pygments_lexer": "ipython2",
   "version": "2.7.6"
  }
 },
 "nbformat": 4,
 "nbformat_minor": 0
}