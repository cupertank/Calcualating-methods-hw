{
 "cells": [
  {
   "cell_type": "markdown",
   "source": [
    "## Задача 4"
   ],
   "metadata": {
    "collapsed": false
   }
  },
  {
   "cell_type": "markdown",
   "source": [
    "### Решить интегральное уравнение Фредгольма второго рода (задание - 4.2.2, стр.38, варианты - 4.3, стр.39, по второй части методички).\n",
    "\n",
    "### Вариант 7\n",
    "\n",
    "$u(x) - 0.5 \\int\\limits_0^1 th(xy) u(y)\\,dy = x - 0.5$\n",
    "\n",
    "$\\epsilon = 0.000001$\n",
    "\n",
    "$H(x, y) = th(xy)$\n",
    "\n",
    "$f(x) = x - 0.5$\n",
    "\n",
    "$[a, b] = [0, 1]$\n",
    "\n",
    "Составная формула Симпсона."
   ],
   "metadata": {
    "collapsed": false
   }
  },
  {
   "cell_type": "markdown",
   "source": [
    "Входные данные"
   ],
   "metadata": {
    "collapsed": false
   }
  },
  {
   "cell_type": "code",
   "execution_count": 1,
   "outputs": [],
   "source": [
    "import maths\n",
    "import numpy as np\n",
    "import math\n",
    "from pandas import DataFrame\n",
    "\n",
    "def H(x, y):\n",
    "    return math.tanh(x * y)\n",
    "\n",
    "def f(x):\n",
    "    return x - 0.5\n",
    "\n",
    "a, b = 0.0, 1.0\n",
    "\n",
    "eps = 0.000001\n",
    "n = 2\n",
    "m = 1"
   ],
   "metadata": {
    "collapsed": false,
    "pycharm": {
     "name": "#%%\n"
    }
   }
  },
  {
   "cell_type": "markdown",
   "source": [
    "Метод механических квадратур"
   ],
   "metadata": {
    "collapsed": false,
    "pycharm": {
     "name": "#%% md\n"
    }
   }
  },
  {
   "cell_type": "code",
   "execution_count": 2,
   "outputs": [],
   "source": [
    "def mechanical_quadrature_method(H, f, n: int, a: float, b: float):\n",
    "    D = np.zeros((n + 1, n + 1), dtype=float)\n",
    "    (coeffs, points) = maths.make_simpson_coefs(a, b, n)\n",
    "    for j in range(n + 1):\n",
    "        for k in range(n + 1):\n",
    "            D[j, k] = maths.kronecker_symbol(j, k) - coeffs[k] * H(coeffs[j], coeffs[k])\n",
    "\n",
    "    g = np.array([f(points[k]) for k in range(n + 1)])\n",
    "    z = np.linalg.solve(D, g)\n",
    "\n",
    "    return coeffs, points, z\n",
    "\n",
    "def solve_in_point(x: float, coeffs, points, z, H, f):\n",
    "    n_plus_one = len(coeffs)\n",
    "    ans = f(x)\n",
    "    for i in range(n_plus_one):\n",
    "        ans += coeffs[i] * H(x, points[i]) * z[i]\n",
    "    return ans"
   ],
   "metadata": {
    "collapsed": false,
    "pycharm": {
     "name": "#%%\n"
    }
   }
  },
  {
   "cell_type": "markdown",
   "source": [
    "Решение задачи с поставленной точностью и вывод таблицы"
   ],
   "metadata": {
    "collapsed": false,
    "pycharm": {
     "name": "#%% md\n"
    }
   }
  },
  {
   "cell_type": "code",
   "execution_count": 3,
   "outputs": [
    {
     "data": {
      "text/plain": "                   x    a   (a + b) / 2             b\n0             u^2(x) -0.5  3.850976e-02  5.634662e-01\n1             u^4(x) -0.5  3.875525e-02  5.642523e-01\n2             u^8(x) -0.5  3.876983e-02  5.643068e-01\n3            u^16(x) -0.5  3.877073e-02  5.643101e-01\n4            u^32(x) -0.5  3.877079e-02  5.643103e-01\n5  u^32(x) - u^16(x)  0.0  5.612160e-08  2.076202e-07",
      "text/html": "<div>\n<style scoped>\n    .dataframe tbody tr th:only-of-type {\n        vertical-align: middle;\n    }\n\n    .dataframe tbody tr th {\n        vertical-align: top;\n    }\n\n    .dataframe thead th {\n        text-align: right;\n    }\n</style>\n<table border=\"1\" class=\"dataframe\">\n  <thead>\n    <tr style=\"text-align: right;\">\n      <th></th>\n      <th>x</th>\n      <th>a</th>\n      <th>(a + b) / 2</th>\n      <th>b</th>\n    </tr>\n  </thead>\n  <tbody>\n    <tr>\n      <th>0</th>\n      <td>u^2(x)</td>\n      <td>-0.5</td>\n      <td>3.850976e-02</td>\n      <td>5.634662e-01</td>\n    </tr>\n    <tr>\n      <th>1</th>\n      <td>u^4(x)</td>\n      <td>-0.5</td>\n      <td>3.875525e-02</td>\n      <td>5.642523e-01</td>\n    </tr>\n    <tr>\n      <th>2</th>\n      <td>u^8(x)</td>\n      <td>-0.5</td>\n      <td>3.876983e-02</td>\n      <td>5.643068e-01</td>\n    </tr>\n    <tr>\n      <th>3</th>\n      <td>u^16(x)</td>\n      <td>-0.5</td>\n      <td>3.877073e-02</td>\n      <td>5.643101e-01</td>\n    </tr>\n    <tr>\n      <th>4</th>\n      <td>u^32(x)</td>\n      <td>-0.5</td>\n      <td>3.877079e-02</td>\n      <td>5.643103e-01</td>\n    </tr>\n    <tr>\n      <th>5</th>\n      <td>u^32(x) - u^16(x)</td>\n      <td>0.0</td>\n      <td>5.612160e-08</td>\n      <td>2.076202e-07</td>\n    </tr>\n  </tbody>\n</table>\n</div>"
     },
     "execution_count": 3,
     "metadata": {},
     "output_type": "execute_result"
    }
   ],
   "source": [
    "coeffs, points, z = mechanical_quadrature_method(H, f, n * m, a, b)\n",
    "current_ans = np.array([solve_in_point(a, coeffs, points, z, H, f),\n",
    "                        solve_in_point((a + b) / 2, coeffs, points, z, H, f),\n",
    "                        solve_in_point(b, coeffs, points, z, H, f)])\n",
    "\n",
    "error = None\n",
    "ans_table = [[f\"u^{n*m}(x)\", current_ans[0], current_ans[1], current_ans[2]]]\n",
    "while error is None or error > eps:\n",
    "    prev_ans = current_ans.copy()\n",
    "    m *= 2\n",
    "    coeffs, points, z = mechanical_quadrature_method(H, f, n * m, a, b)\n",
    "    current_ans = np.array([solve_in_point(a, coeffs, points, z, H, f),\n",
    "                            solve_in_point((a + b) / 2, coeffs, points, z, H, f),\n",
    "                            solve_in_point(b, coeffs, points, z, H, f)])\n",
    "    error = np.abs(current_ans - prev_ans).max()\n",
    "    ans_table.append([f\"u^{n*m}(x)\", current_ans[0], current_ans[1], current_ans[2]])\n",
    "\n",
    "last_err = current_ans - prev_ans\n",
    "ans_table.append([f\"u^{m * n}(x) - u^{m * n // 2}(x)\", last_err[0], last_err[1], last_err[2]])\n",
    "df = DataFrame(ans_table, columns=[\"x\", \"a\", \"(a + b) / 2\", \"b\"])\n",
    "df"
   ],
   "metadata": {
    "collapsed": false,
    "pycharm": {
     "name": "#%%\n"
    }
   }
  }
 ],
 "metadata": {
  "kernelspec": {
   "display_name": "Python 3",
   "language": "python",
   "name": "python3"
  },
  "language_info": {
   "codemirror_mode": {
    "name": "ipython",
    "version": 2
   },
   "file_extension": ".py",
   "mimetype": "text/x-python",
   "name": "python",
   "nbconvert_exporter": "python",
   "pygments_lexer": "ipython2",
   "version": "2.7.6"
  }
 },
 "nbformat": 4,
 "nbformat_minor": 0
}