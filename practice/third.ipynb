{
 "cells": [
  {
   "cell_type": "markdown",
   "source": [
    "## Задача 3"
   ],
   "metadata": {
    "collapsed": false
   }
  },
  {
   "cell_type": "markdown",
   "source": [
    "### Решение частичной проблемы собственных значений (варианты - 13.8 по методичке (2 и 3 пункты), стр.118, матрицы - 13.9, стр.126).\n",
    "### Вариант 7"
   ],
   "metadata": {
    "collapsed": false
   }
  },
  {
   "cell_type": "markdown",
   "source": [
    "$\n",
    "A =\n",
    "\\begin{pmatrix}\n",
    "    -1.00449 & -0.38726 & 0.59047 \\\\\n",
    "    -0.38726 & 0.73999 & 0.12519 \\\\\n",
    "    0.59047 & 0.12519 & -1.08660\n",
    "\\end{pmatrix}\n",
    "$\n",
    "\n",
    "$\\epsilon = 0.001$"
   ],
   "metadata": {
    "collapsed": false
   }
  },
  {
   "cell_type": "markdown",
   "source": [
    "Входные данные"
   ],
   "metadata": {
    "collapsed": false,
    "pycharm": {
     "name": "#%% md\n"
    }
   }
  },
  {
   "cell_type": "code",
   "execution_count": 1,
   "outputs": [],
   "source": [
    "import numpy as np\n",
    "\n",
    "A = np.array([\n",
    "    [-1.00449, -0.38726, 0.59047],\n",
    "    [-0.38726, 0.73999, 0.12519],\n",
    "    [0.59047, 0.12519, -1.08660]\n",
    "], dtype=np.float64)\n",
    "\n",
    "eps = 0.001\n",
    "\n",
    "init_vector = np.ones((A.shape[0], 1), dtype=np.float64)\n"
   ],
   "metadata": {
    "collapsed": false,
    "pycharm": {
     "name": "#%%\n"
    }
   }
  },
  {
   "cell_type": "markdown",
   "source": [
    "Степенной метод"
   ],
   "metadata": {
    "collapsed": false,
    "pycharm": {
     "name": "#%% md\n"
    }
   }
  },
  {
   "cell_type": "code",
   "execution_count": 2,
   "outputs": [],
   "source": [
    "def power_method(A: np.ndarray, eps: float):\n",
    "    prev_eig_vector = init_vector.copy()\n",
    "    eig_vector = A.dot(prev_eig_vector)\n",
    "    eig_value = eig_vector / prev_eig_vector\n",
    "    error = None\n",
    "    count = 0\n",
    "\n",
    "    while error is None or error > eps:\n",
    "        count += 1\n",
    "        prev_eig_vector = eig_vector.copy()\n",
    "        prev_eig_value = eig_value.copy()\n",
    "\n",
    "        eig_vector = A.dot(prev_eig_vector)\n",
    "        eig_value = eig_vector / prev_eig_vector\n",
    "        error = np.abs(prev_eig_value - eig_value).max()\n",
    "\n",
    "    eig_vector /= np.linalg.norm(eig_vector, ord='fro')\n",
    "    print(f\"count = {count}\\n\")\n",
    "    return eig_vector, eig_value"
   ],
   "metadata": {
    "collapsed": false,
    "pycharm": {
     "name": "#%%\n"
    }
   }
  },
  {
   "cell_type": "markdown",
   "source": [
    "Результаты полученные степенным методом"
   ],
   "metadata": {
    "collapsed": false,
    "pycharm": {
     "name": "#%% md\n"
    }
   }
  },
  {
   "cell_type": "code",
   "execution_count": 3,
   "outputs": [
    {
     "name": "stdout",
     "output_type": "stream",
     "text": [
      "count = 18\n",
      "\n",
      "eig_value = [[-1.69020274]\n",
      " [-1.68996407]\n",
      " [-1.69019248]]\n",
      "eig_vector = \n",
      "[[-0.69173072]\n",
      " [-0.14665   ]\n",
      " [ 0.70710847]]\n",
      "\n",
      "norm(eig_vector) = 1.0\n"
     ]
    }
   ],
   "source": [
    "eig_vector, eig_value = power_method(A, eps)\n",
    "print(f\"eig_value = {eig_value}\")\n",
    "print(f\"eig_vector = \\n{eig_vector}\\n\")\n",
    "print(f\"norm(eig_vector) = {np.linalg.norm(eig_vector, ord='fro')}\")\n"
   ],
   "metadata": {
    "collapsed": false,
    "pycharm": {
     "name": "#%%\n"
    }
   }
  },
  {
   "cell_type": "markdown",
   "source": [
    "Проверка на корректность полученных результатов"
   ],
   "metadata": {
    "collapsed": false,
    "pycharm": {
     "name": "#%% md\n"
    }
   }
  },
  {
   "cell_type": "code",
   "execution_count": 4,
   "outputs": [
    {
     "name": "stdout",
     "output_type": "stream",
     "text": [
      "A * eig_vector = \n",
      "[[ 1.16915461]\n",
      " [ 0.24788302]\n",
      " [-1.19514941]]\n",
      "\n",
      "eig_value * eigen_vector = \n",
      "[[ 1.16916516]\n",
      " [ 0.24783323]\n",
      " [-1.19514942]]\n"
     ]
    }
   ],
   "source": [
    "print(f\"A * eig_vector = \\n{A.dot(eig_vector)}\\n\")\n",
    "print(f\"eig_value * eigen_vector = \\n{eig_value * eig_vector}\")"
   ],
   "metadata": {
    "collapsed": false,
    "pycharm": {
     "name": "#%%\n"
    }
   }
  },
  {
   "cell_type": "markdown",
   "source": [
    "Метод скалярных произведений"
   ],
   "metadata": {
    "collapsed": false,
    "pycharm": {
     "name": "#%% md\n"
    }
   }
  },
  {
   "cell_type": "code",
   "execution_count": 5,
   "outputs": [],
   "source": [
    "def dot_product_method(A: np.array, eps: float):\n",
    "    prev_eig_vector = init_vector.copy()\n",
    "    eig_vector: np.ndarray = A.dot(prev_eig_vector)\n",
    "\n",
    "    eig_value = eig_vector.transpose().dot(prev_eig_vector)[0, 0] / \\\n",
    "                prev_eig_vector.transpose().dot(prev_eig_vector)[0, 0]\n",
    "\n",
    "    error = None\n",
    "    count = 0\n",
    "\n",
    "    while error is None or error > eps:\n",
    "        count += 1\n",
    "        prev_eig_vector = eig_vector.copy()\n",
    "        prev_eig_value = eig_value\n",
    "\n",
    "        eig_vector = A.dot(prev_eig_vector)\n",
    "        eig_value = eig_vector.transpose().dot(prev_eig_vector)[0, 0] / \\\n",
    "                    prev_eig_vector.transpose().dot(prev_eig_vector)[0, 0]\n",
    "        error = abs(prev_eig_value - eig_value)\n",
    "\n",
    "    eig_vector /= np.linalg.norm(eig_vector, ord='fro')\n",
    "    print(f\"count = {count}\\n\")\n",
    "    return eig_vector, eig_value"
   ],
   "metadata": {
    "collapsed": false,
    "pycharm": {
     "name": "#%%\n"
    }
   }
  },
  {
   "cell_type": "markdown",
   "source": [
    "Результаты полученные методом скалярных произведений"
   ],
   "metadata": {
    "collapsed": false
   }
  },
  {
   "cell_type": "code",
   "execution_count": 6,
   "outputs": [
    {
     "name": "stdout",
     "output_type": "stream",
     "text": [
      "count = 14\n",
      "\n",
      "eig_value = -1.6901923288085898\n",
      "eig_vector = \n",
      "[[-0.69175397]\n",
      " [-0.14654061]\n",
      " [ 0.70710841]]\n",
      "\n",
      "norm(eig_vector) = 1.0\n"
     ]
    }
   ],
   "source": [
    "eig_vector, eig_value = dot_product_method(A, eps ** 2)\n",
    "print(f\"eig_value = {eig_value}\")\n",
    "print(f\"eig_vector = \\n{eig_vector}\\n\")\n",
    "print(f\"norm(eig_vector) = {np.linalg.norm(eig_vector, ord='fro')}\")\n"
   ],
   "metadata": {
    "collapsed": false,
    "pycharm": {
     "name": "#%%\n"
    }
   }
  },
  {
   "cell_type": "markdown",
   "source": [
    "Проверка на корректность полученных результатов"
   ],
   "metadata": {
    "collapsed": false
   }
  },
  {
   "cell_type": "code",
   "execution_count": 7,
   "outputs": [
    {
     "name": "stdout",
     "output_type": "stream",
     "text": [
      "A * eig_vector = \n",
      "[[ 1.16913556]\n",
      " [ 0.24797296]\n",
      " [-1.19514938]]\n",
      "\n",
      "eig_value * eigen_vector = \n",
      "[[ 1.16919725]\n",
      " [ 0.24768182]\n",
      " [-1.1951492 ]]\n"
     ]
    }
   ],
   "source": [
    "print(f\"A * eig_vector = \\n{A.dot(eig_vector)}\\n\")\n",
    "print(f\"eig_value * eigen_vector = \\n{eig_value * eig_vector}\")"
   ],
   "metadata": {
    "collapsed": false,
    "pycharm": {
     "name": "#%%\n"
    }
   }
  }
 ],
 "metadata": {
  "kernelspec": {
   "display_name": "Python 3",
   "language": "python",
   "name": "python3"
  },
  "language_info": {
   "codemirror_mode": {
    "name": "ipython",
    "version": 2
   },
   "file_extension": ".py",
   "mimetype": "text/x-python",
   "name": "python",
   "nbconvert_exporter": "python",
   "pygments_lexer": "ipython2",
   "version": "2.7.6"
  }
 },
 "nbformat": 4,
 "nbformat_minor": 0
}