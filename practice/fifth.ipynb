{
 "cells": [
  {
   "cell_type": "markdown",
   "source": [
    "## Задача 5"
   ],
   "metadata": {
    "collapsed": false,
    "pycharm": {
     "name": "#%% md\n"
    }
   }
  },
  {
   "cell_type": "markdown",
   "source": [
    "### Решить дифференциальное уравнение методом сеток (задание - 5.5, стр.46, варианты - 5.6, стр.48, по второй части методички).\n",
    "\n",
    "### Вариант 7"
   ],
   "metadata": {
    "collapsed": false
   }
  },
  {
   "cell_type": "markdown",
   "source": [
    "Входные данные"
   ],
   "metadata": {
    "collapsed": false,
    "pycharm": {
     "name": "#%% md\n"
    }
   }
  },
  {
   "cell_type": "code",
   "execution_count": 1,
   "metadata": {
    "collapsed": true
   },
   "outputs": [],
   "source": [
    "import numpy as np\n",
    "from pandas import DataFrame\n",
    "\n",
    "def alpha_1(t):\n",
    "    return 0\n",
    "\n",
    "def alpha_2(t):\n",
    "    return -1\n",
    "\n",
    "def beta_1(t):\n",
    "    return 1\n",
    "\n",
    "def beta_2(t):\n",
    "    return 0\n",
    "\n",
    "def alpha(t):\n",
    "    return 0\n",
    "\n",
    "def beta(t):\n",
    "    return u(1, t)\n",
    "\n",
    "def phi(x: float):\n",
    "    return u(x, 0)\n",
    "\n",
    "def p(x: float):\n",
    "    return x + 1\n",
    "\n",
    "def b(x, t):\n",
    "    return 0\n",
    "\n",
    "def c(x, t):\n",
    "    return 0\n",
    "\n",
    "def u(x, t):\n",
    "    return (x ** 3) + (t ** 3)\n",
    "\n",
    "def f(x, t):\n",
    "    return 3 * (t ** 2) - 9 * (x ** 2) - 6 * x\n",
    "\n",
    "A = 2\n",
    "M = [5, 10, 20, 40, 80, 160]"
   ]
  },
  {
   "cell_type": "markdown",
   "source": [
    "Алгоритм явной схемы"
   ],
   "metadata": {
    "collapsed": false,
    "pycharm": {
     "name": "#%% md\n"
    }
   }
  },
  {
   "cell_type": "code",
   "execution_count": 2,
   "outputs": [],
   "source": [
    "def difference_operator(h: float, tau: float, i: int, k: int, table):\n",
    "    ans = p((i + 0.5) * h) * (table[k, i + 1] - table[k, i]) / (h ** 2)\n",
    "    ans -= p((i - 0.5) * h) * (table[k, i] - table[k, i - 1]) / (h ** 2)\n",
    "    ans += b(i * h, k * tau) * (table[k, i + 1] - table[k, i - 1]) / (2 * h)\n",
    "    ans += c(i * h, k * tau) * table[k, i]\n",
    "    return ans\n",
    "\n",
    "\n",
    "def explicit_schema(h: float, tau: float, m: int, n: int):\n",
    "    ans_table = np.zeros((m + 1, n + 1))\n",
    "    for i in range(n + 1):\n",
    "        ans_table[0, i] = phi(i * h)\n",
    "\n",
    "    for k in range(1, m + 1):\n",
    "        current_t = k * tau\n",
    "        for i in range(1, n):\n",
    "            ans_table[k, i] = ans_table[k-1, i]\n",
    "\n",
    "            ans_table[k, i] += tau * (difference_operator(h, tau, i, k - 1, ans_table) + f(h * i, (k - 1) * tau))\n",
    "\n",
    "        ans_table[k, 0] = (alpha(current_t) + alpha_2(current_t) * (4 * ans_table[k, 1] - ans_table[k, 2]) / (2 * h)) / \\\n",
    "                          (alpha_1(current_t) + alpha_2(current_t) * 3 / (2 * h))\n",
    "        ans_table[k, n] = (beta(current_t) + beta_2(current_t) * (4 * ans_table[k, n - 1] - ans_table[k, n - 2]) / (2 * h)) / \\\n",
    "                          (beta_1(current_t) + beta_2(current_t) * 3 / (2 * h))\n",
    "    return ans_table"
   ],
   "metadata": {
    "collapsed": false,
    "pycharm": {
     "name": "#%%\n"
    }
   }
  },
  {
   "cell_type": "markdown",
   "source": [
    "Алгоритм неявной схемы"
   ],
   "metadata": {
    "collapsed": false,
    "pycharm": {
     "name": "#%% md\n"
    }
   }
  },
  {
   "cell_type": "code",
   "execution_count": 3,
   "outputs": [],
   "source": [
    "def implicit_schema(h: float, tau: float, m: int, n: int, sigma: float):\n",
    "    ans_table = np.zeros((m + 1, n + 1))\n",
    "    for i in range(n + 1):\n",
    "        ans_table[0, i] = phi(i * h)\n",
    "\n",
    "    for k in range(1, m + 1):\n",
    "        current_t = k * tau\n",
    "\n",
    "        A = np.zeros(n + 1)\n",
    "        B = np.zeros(n + 1)\n",
    "        C = np.zeros(n + 1)\n",
    "        G = np.zeros(n + 1)\n",
    "\n",
    "        A[0] = 0.0\n",
    "        B[0] = -alpha_1(current_t) - alpha_2(current_t) / h\n",
    "        C[0] = -alpha_2(current_t) / h\n",
    "        G[0] = alpha(current_t)\n",
    "\n",
    "        A[n] = -beta_2(current_t) / h\n",
    "        B[n] = -beta_1(current_t) - beta_2(current_t) / h\n",
    "        C[n] = 0.0\n",
    "        G[n] = beta(current_t)\n",
    "\n",
    "        for i in range(1, n):\n",
    "            current_x = i * h\n",
    "            A[i] = sigma * (p(current_x - 0.5 * h) / (h ** 2) - b(current_x, current_t) / (2 * h))\n",
    "            B[i] = sigma * (p(current_x + 0.5 * h) / (h ** 2) + p(current_x - 0.5 * h) / (h ** 2) - c(current_x, current_t)) + 1 / tau\n",
    "            C[i] = sigma * (p(current_x + 0.5 * h) / (h ** 2) + b(current_x, current_t) / (2 * h))\n",
    "            G[i] = -1 / tau * ans_table[k - 1, i] - (1 - sigma) * difference_operator(h, tau, i, k - 1, ans_table) - \\\n",
    "                   f(current_x, current_t - (1 - sigma) * tau)\n",
    "\n",
    "        s = np.zeros(n + 1)\n",
    "        t = np.zeros(n + 1)\n",
    "\n",
    "        s[0] = C[0] / B[0]\n",
    "        t[0] = -G[0] / B[0]\n",
    "\n",
    "        for i in range(1, n + 1):\n",
    "            s[i] = C[i] / (B[i] - A[i] * s[i - 1])\n",
    "            t[i] = (A[i] * t[i - 1] - G[i]) / (B[i] - A[i] * s[i - 1])\n",
    "\n",
    "        ans_table[k, n] = t[n]\n",
    "        for i in reversed(range(0, n)):\n",
    "            ans_table[k, i] = s[i] * ans_table[k, i + 1] + t[i]\n",
    "\n",
    "    return ans_table"
   ],
   "metadata": {
    "collapsed": false,
    "pycharm": {
     "name": "#%%\n"
    }
   }
  },
  {
   "cell_type": "markdown",
   "source": [
    "Крупная сетка для явной схемы"
   ],
   "metadata": {
    "collapsed": false,
    "pycharm": {
     "name": "#%% md\n"
    }
   }
  },
  {
   "cell_type": "code",
   "execution_count": 4,
   "outputs": [
    {
     "data": {
      "text/plain": "           0.0       0.2       0.4  0.6000000000000001       0.8       1.0\n0.0   0.000000  0.008000  0.064000            0.216000  0.512000  1.000000\n0.01 -0.010267  0.008400  0.064400            0.216400  0.512400  1.000001\n0.02 -0.013775  0.005870  0.064803            0.216803  0.512613  1.000008\n0.03 -0.016044  0.004033  0.064262            0.217134  0.512818  1.000027\n0.04 -0.017863  0.002513  0.063642            0.217100  0.513004  1.000064\n0.05 -0.019357  0.001224  0.062970            0.216960  0.513046  1.000125\n0.06 -0.020632  0.000107  0.062324            0.216725  0.513047  1.000216\n0.07 -0.021728 -0.000868  0.061712            0.216470  0.513024  1.000343\n0.08 -0.022677 -0.001719  0.061155            0.216218  0.513012  1.000512\n0.09 -0.023496 -0.002457  0.060661            0.215999  0.513029  1.000729\n0.1  -0.024195 -0.003086  0.060243            0.215828  0.513092  1.001000",
      "text/html": "<div>\n<style scoped>\n    .dataframe tbody tr th:only-of-type {\n        vertical-align: middle;\n    }\n\n    .dataframe tbody tr th {\n        vertical-align: top;\n    }\n\n    .dataframe thead th {\n        text-align: right;\n    }\n</style>\n<table border=\"1\" class=\"dataframe\">\n  <thead>\n    <tr style=\"text-align: right;\">\n      <th></th>\n      <th>0.0</th>\n      <th>0.2</th>\n      <th>0.4</th>\n      <th>0.6000000000000001</th>\n      <th>0.8</th>\n      <th>1.0</th>\n    </tr>\n  </thead>\n  <tbody>\n    <tr>\n      <th>0.0</th>\n      <td>0.000000</td>\n      <td>0.008000</td>\n      <td>0.064000</td>\n      <td>0.216000</td>\n      <td>0.512000</td>\n      <td>1.000000</td>\n    </tr>\n    <tr>\n      <th>0.01</th>\n      <td>-0.010267</td>\n      <td>0.008400</td>\n      <td>0.064400</td>\n      <td>0.216400</td>\n      <td>0.512400</td>\n      <td>1.000001</td>\n    </tr>\n    <tr>\n      <th>0.02</th>\n      <td>-0.013775</td>\n      <td>0.005870</td>\n      <td>0.064803</td>\n      <td>0.216803</td>\n      <td>0.512613</td>\n      <td>1.000008</td>\n    </tr>\n    <tr>\n      <th>0.03</th>\n      <td>-0.016044</td>\n      <td>0.004033</td>\n      <td>0.064262</td>\n      <td>0.217134</td>\n      <td>0.512818</td>\n      <td>1.000027</td>\n    </tr>\n    <tr>\n      <th>0.04</th>\n      <td>-0.017863</td>\n      <td>0.002513</td>\n      <td>0.063642</td>\n      <td>0.217100</td>\n      <td>0.513004</td>\n      <td>1.000064</td>\n    </tr>\n    <tr>\n      <th>0.05</th>\n      <td>-0.019357</td>\n      <td>0.001224</td>\n      <td>0.062970</td>\n      <td>0.216960</td>\n      <td>0.513046</td>\n      <td>1.000125</td>\n    </tr>\n    <tr>\n      <th>0.06</th>\n      <td>-0.020632</td>\n      <td>0.000107</td>\n      <td>0.062324</td>\n      <td>0.216725</td>\n      <td>0.513047</td>\n      <td>1.000216</td>\n    </tr>\n    <tr>\n      <th>0.07</th>\n      <td>-0.021728</td>\n      <td>-0.000868</td>\n      <td>0.061712</td>\n      <td>0.216470</td>\n      <td>0.513024</td>\n      <td>1.000343</td>\n    </tr>\n    <tr>\n      <th>0.08</th>\n      <td>-0.022677</td>\n      <td>-0.001719</td>\n      <td>0.061155</td>\n      <td>0.216218</td>\n      <td>0.513012</td>\n      <td>1.000512</td>\n    </tr>\n    <tr>\n      <th>0.09</th>\n      <td>-0.023496</td>\n      <td>-0.002457</td>\n      <td>0.060661</td>\n      <td>0.215999</td>\n      <td>0.513029</td>\n      <td>1.000729</td>\n    </tr>\n    <tr>\n      <th>0.1</th>\n      <td>-0.024195</td>\n      <td>-0.003086</td>\n      <td>0.060243</td>\n      <td>0.215828</td>\n      <td>0.513092</td>\n      <td>1.001000</td>\n    </tr>\n  </tbody>\n</table>\n</div>"
     },
     "execution_count": 4,
     "metadata": {},
     "output_type": "execute_result"
    }
   ],
   "source": [
    "n = 5\n",
    "h = 1 / n\n",
    "m = 10\n",
    "tau = 0.1 / m\n",
    "\n",
    "ans_table = explicit_schema(h, tau, m, n)\n",
    "columns = [f\"{k * h}\" for k in range(n + 1)]\n",
    "rows = [f\"{k * tau}\" for k in range(m + 1)]\n",
    "table = DataFrame(ans_table, columns=columns, index=rows)\n",
    "table"
   ],
   "metadata": {
    "collapsed": false,
    "pycharm": {
     "name": "#%%\n"
    }
   }
  },
  {
   "cell_type": "markdown",
   "source": [
    "Крупная сетка для неявной схемы"
   ],
   "metadata": {
    "collapsed": false,
    "pycharm": {
     "name": "#%% md\n"
    }
   }
  },
  {
   "cell_type": "code",
   "execution_count": 5,
   "outputs": [
    {
     "data": {
      "text/plain": "           0.0       0.2       0.4  0.6000000000000001       0.8       1.0\n0.0   0.000000  0.008000  0.064000            0.216000  0.512000  1.000000\n0.01  0.009363  0.009363  0.064517            0.216407  0.512336  1.000001\n0.02  0.011480  0.011480  0.065308            0.216850  0.512594  1.000008\n0.03  0.013264  0.013264  0.066300            0.217365  0.512844  1.000027\n0.04  0.014850  0.014850  0.067350            0.217952  0.513123  1.000064\n0.05  0.016309  0.016309  0.068410            0.218594  0.513441  1.000125\n0.06  0.017681  0.017681  0.069468            0.219277  0.513801  1.000216\n0.07  0.018996  0.018996  0.070522            0.219995  0.514204  1.000343\n0.08  0.020274  0.020274  0.071576            0.220743  0.514649  1.000512\n0.09  0.021532  0.021532  0.072637            0.221523  0.515138  1.000729\n0.1   0.022783  0.022783  0.073711            0.222337  0.515674  1.001000",
      "text/html": "<div>\n<style scoped>\n    .dataframe tbody tr th:only-of-type {\n        vertical-align: middle;\n    }\n\n    .dataframe tbody tr th {\n        vertical-align: top;\n    }\n\n    .dataframe thead th {\n        text-align: right;\n    }\n</style>\n<table border=\"1\" class=\"dataframe\">\n  <thead>\n    <tr style=\"text-align: right;\">\n      <th></th>\n      <th>0.0</th>\n      <th>0.2</th>\n      <th>0.4</th>\n      <th>0.6000000000000001</th>\n      <th>0.8</th>\n      <th>1.0</th>\n    </tr>\n  </thead>\n  <tbody>\n    <tr>\n      <th>0.0</th>\n      <td>0.000000</td>\n      <td>0.008000</td>\n      <td>0.064000</td>\n      <td>0.216000</td>\n      <td>0.512000</td>\n      <td>1.000000</td>\n    </tr>\n    <tr>\n      <th>0.01</th>\n      <td>0.009363</td>\n      <td>0.009363</td>\n      <td>0.064517</td>\n      <td>0.216407</td>\n      <td>0.512336</td>\n      <td>1.000001</td>\n    </tr>\n    <tr>\n      <th>0.02</th>\n      <td>0.011480</td>\n      <td>0.011480</td>\n      <td>0.065308</td>\n      <td>0.216850</td>\n      <td>0.512594</td>\n      <td>1.000008</td>\n    </tr>\n    <tr>\n      <th>0.03</th>\n      <td>0.013264</td>\n      <td>0.013264</td>\n      <td>0.066300</td>\n      <td>0.217365</td>\n      <td>0.512844</td>\n      <td>1.000027</td>\n    </tr>\n    <tr>\n      <th>0.04</th>\n      <td>0.014850</td>\n      <td>0.014850</td>\n      <td>0.067350</td>\n      <td>0.217952</td>\n      <td>0.513123</td>\n      <td>1.000064</td>\n    </tr>\n    <tr>\n      <th>0.05</th>\n      <td>0.016309</td>\n      <td>0.016309</td>\n      <td>0.068410</td>\n      <td>0.218594</td>\n      <td>0.513441</td>\n      <td>1.000125</td>\n    </tr>\n    <tr>\n      <th>0.06</th>\n      <td>0.017681</td>\n      <td>0.017681</td>\n      <td>0.069468</td>\n      <td>0.219277</td>\n      <td>0.513801</td>\n      <td>1.000216</td>\n    </tr>\n    <tr>\n      <th>0.07</th>\n      <td>0.018996</td>\n      <td>0.018996</td>\n      <td>0.070522</td>\n      <td>0.219995</td>\n      <td>0.514204</td>\n      <td>1.000343</td>\n    </tr>\n    <tr>\n      <th>0.08</th>\n      <td>0.020274</td>\n      <td>0.020274</td>\n      <td>0.071576</td>\n      <td>0.220743</td>\n      <td>0.514649</td>\n      <td>1.000512</td>\n    </tr>\n    <tr>\n      <th>0.09</th>\n      <td>0.021532</td>\n      <td>0.021532</td>\n      <td>0.072637</td>\n      <td>0.221523</td>\n      <td>0.515138</td>\n      <td>1.000729</td>\n    </tr>\n    <tr>\n      <th>0.1</th>\n      <td>0.022783</td>\n      <td>0.022783</td>\n      <td>0.073711</td>\n      <td>0.222337</td>\n      <td>0.515674</td>\n      <td>1.001000</td>\n    </tr>\n  </tbody>\n</table>\n</div>"
     },
     "execution_count": 5,
     "metadata": {},
     "output_type": "execute_result"
    }
   ],
   "source": [
    "n = 5\n",
    "h = 1 / n\n",
    "m = 10\n",
    "tau = 0.1 / m\n",
    "sigma = 0.5\n",
    "\n",
    "ans_table = implicit_schema(h, tau, m, n, sigma)\n",
    "columns = [f\"{k * h}\" for k in range(n + 1)]\n",
    "rows = [f\"{k * tau}\" for k in range(m + 1)]\n",
    "table = DataFrame(ans_table, columns=columns, index=rows)\n",
    "table"
   ],
   "metadata": {
    "collapsed": false,
    "pycharm": {
     "name": "#%%\n"
    }
   }
  },
  {
   "cell_type": "markdown",
   "source": [
    "Таблица для явной схемы"
   ],
   "metadata": {
    "collapsed": false,
    "pycharm": {
     "name": "#%% md\n"
    }
   }
  },
  {
   "cell_type": "code",
   "execution_count": 6,
   "outputs": [
    {
     "data": {
      "text/plain": "      h       tau  ||J - u|| ||u(2h,tau) - u(h, tau)\n0  0.20  0.010000   0.025195                     ---\n1  0.10  0.002500   0.005929                0.019886\n2  0.05  0.000625   0.001451                0.004495",
      "text/html": "<div>\n<style scoped>\n    .dataframe tbody tr th:only-of-type {\n        vertical-align: middle;\n    }\n\n    .dataframe tbody tr th {\n        vertical-align: top;\n    }\n\n    .dataframe thead th {\n        text-align: right;\n    }\n</style>\n<table border=\"1\" class=\"dataframe\">\n  <thead>\n    <tr style=\"text-align: right;\">\n      <th></th>\n      <th>h</th>\n      <th>tau</th>\n      <th>||J - u||</th>\n      <th>||u(2h,tau) - u(h, tau)</th>\n    </tr>\n  </thead>\n  <tbody>\n    <tr>\n      <th>0</th>\n      <td>0.20</td>\n      <td>0.010000</td>\n      <td>0.025195</td>\n      <td>---</td>\n    </tr>\n    <tr>\n      <th>1</th>\n      <td>0.10</td>\n      <td>0.002500</td>\n      <td>0.005929</td>\n      <td>0.019886</td>\n    </tr>\n    <tr>\n      <th>2</th>\n      <td>0.05</td>\n      <td>0.000625</td>\n      <td>0.001451</td>\n      <td>0.004495</td>\n    </tr>\n  </tbody>\n</table>\n</div>"
     },
     "execution_count": 6,
     "metadata": {},
     "output_type": "execute_result"
    }
   ],
   "source": [
    "def choose_tau(h: float):\n",
    "    for m in M:\n",
    "        tau = 0.1 / m\n",
    "        if A * tau / (h ** 2) <= 0.5:\n",
    "            return tau\n",
    "\n",
    "def make_real_table(h: float, tau: float, m: int, n: int):\n",
    "    table = np.zeros((m + 1, n + 1))\n",
    "    for k in range(m + 1):\n",
    "        for i in range(n + 1):\n",
    "            table[k, i] = u(i * h, k * tau)\n",
    "    return table\n",
    "\n",
    "\n",
    "rows = []\n",
    "for h in [0.2, 0.1, 0.05]:\n",
    "    tau = choose_tau(h)\n",
    "    m = int(0.1 / tau)\n",
    "    n = int(1 / h)\n",
    "    real_table = make_real_table(h, tau, m, n)\n",
    "    explicit_table = explicit_schema(h, tau, m, n)\n",
    "    delta = np.abs(real_table - explicit_table).max()\n",
    "    if h == 0.2:\n",
    "        rows.append([h, tau, delta, \"---\"])\n",
    "    else:\n",
    "        two_n = int(1 / (h * 2))\n",
    "        two_explicit_table = explicit_schema(h * 2, tau, m, two_n)\n",
    "        minimized_table = np.array([[explicit_table[k, i] for i in range(0, n + 1, 2)] for k in range(m + 1)])\n",
    "        two_delta = np.abs(minimized_table - two_explicit_table).max()\n",
    "        rows.append([h, tau, delta, two_delta])\n",
    "\n",
    "table = DataFrame(rows, columns=[\"h\", \"tau\", \"||J - u||\", \"||u(2h,tau) - u(h, tau)\"])\n",
    "table"
   ],
   "metadata": {
    "collapsed": false,
    "pycharm": {
     "name": "#%%\n"
    }
   }
  },
  {
   "cell_type": "markdown",
   "source": [
    "Таблица для неявной схемы с $\\sigma = 0.0$"
   ],
   "metadata": {
    "collapsed": false,
    "pycharm": {
     "name": "#%% md\n"
    }
   }
  },
  {
   "cell_type": "code",
   "execution_count": 7,
   "outputs": [
    {
     "data": {
      "text/plain": "      h  tau     ||J - u|| ||u(2h,tau) - u(h, tau)\n0  0.20  0.1  5.633848e+06                     ---\n1  0.10  0.1  6.681333e+10      66818144687.671974\n2  0.05  0.1  4.595865e+17    459586436465525056.0",
      "text/html": "<div>\n<style scoped>\n    .dataframe tbody tr th:only-of-type {\n        vertical-align: middle;\n    }\n\n    .dataframe tbody tr th {\n        vertical-align: top;\n    }\n\n    .dataframe thead th {\n        text-align: right;\n    }\n</style>\n<table border=\"1\" class=\"dataframe\">\n  <thead>\n    <tr style=\"text-align: right;\">\n      <th></th>\n      <th>h</th>\n      <th>tau</th>\n      <th>||J - u||</th>\n      <th>||u(2h,tau) - u(h, tau)</th>\n    </tr>\n  </thead>\n  <tbody>\n    <tr>\n      <th>0</th>\n      <td>0.20</td>\n      <td>0.1</td>\n      <td>5.633848e+06</td>\n      <td>---</td>\n    </tr>\n    <tr>\n      <th>1</th>\n      <td>0.10</td>\n      <td>0.1</td>\n      <td>6.681333e+10</td>\n      <td>66818144687.671974</td>\n    </tr>\n    <tr>\n      <th>2</th>\n      <td>0.05</td>\n      <td>0.1</td>\n      <td>4.595865e+17</td>\n      <td>459586436465525056.0</td>\n    </tr>\n  </tbody>\n</table>\n</div>"
     },
     "execution_count": 7,
     "metadata": {},
     "output_type": "execute_result"
    }
   ],
   "source": [
    "m = 10\n",
    "rows = []\n",
    "sigma = 0\n",
    "\n",
    "for h in [0.2, 0.1, 0.05]:\n",
    "    tau = 1 / m\n",
    "    n = int(1 / h)\n",
    "    real_table = make_real_table(h, tau, m, n)\n",
    "    implicit_table = implicit_schema(h, tau, m, n, sigma)\n",
    "    delta = np.abs(real_table - implicit_table).max()\n",
    "    if h == 0.2:\n",
    "        rows.append([h, tau, delta, \"---\"])\n",
    "    else:\n",
    "        two_n = int(1 / (h * 2))\n",
    "        two_implicit_table = implicit_schema(2 * h, tau, m, two_n, sigma)\n",
    "        minimized_table = np.array([[implicit_table[k, i] for i in range(0, n + 1, 2)] for k in range(m + 1)])\n",
    "        two_delta = np.abs(two_implicit_table - minimized_table).max()\n",
    "        rows.append([h, tau, delta, two_delta])\n",
    "table = DataFrame(rows, columns=[\"h\", \"tau\", \"||J - u||\", \"||u(2h,tau) - u(h, tau)\"])\n",
    "table"
   ],
   "metadata": {
    "collapsed": false,
    "pycharm": {
     "name": "#%%\n"
    }
   }
  },
  {
   "cell_type": "markdown",
   "source": [
    "Таблица для неявной схемы с $\\sigma = 0.5$"
   ],
   "metadata": {
    "collapsed": false
   }
  },
  {
   "cell_type": "code",
   "execution_count": 8,
   "outputs": [
    {
     "data": {
      "text/plain": "      h   tau  ||J - u|| ||u(2h,tau) - u(h, tau)\n0  0.20  0.01   0.039817                     ---\n1  0.10  0.01   0.009912                0.029905\n2  0.05  0.01   0.002466                0.007446",
      "text/html": "<div>\n<style scoped>\n    .dataframe tbody tr th:only-of-type {\n        vertical-align: middle;\n    }\n\n    .dataframe tbody tr th {\n        vertical-align: top;\n    }\n\n    .dataframe thead th {\n        text-align: right;\n    }\n</style>\n<table border=\"1\" class=\"dataframe\">\n  <thead>\n    <tr style=\"text-align: right;\">\n      <th></th>\n      <th>h</th>\n      <th>tau</th>\n      <th>||J - u||</th>\n      <th>||u(2h,tau) - u(h, tau)</th>\n    </tr>\n  </thead>\n  <tbody>\n    <tr>\n      <th>0</th>\n      <td>0.20</td>\n      <td>0.01</td>\n      <td>0.039817</td>\n      <td>---</td>\n    </tr>\n    <tr>\n      <th>1</th>\n      <td>0.10</td>\n      <td>0.01</td>\n      <td>0.009912</td>\n      <td>0.029905</td>\n    </tr>\n    <tr>\n      <th>2</th>\n      <td>0.05</td>\n      <td>0.01</td>\n      <td>0.002466</td>\n      <td>0.007446</td>\n    </tr>\n  </tbody>\n</table>\n</div>"
     },
     "execution_count": 8,
     "metadata": {},
     "output_type": "execute_result"
    }
   ],
   "source": [
    "m = 100\n",
    "rows = []\n",
    "sigma = 0.5\n",
    "\n",
    "for h in [0.2, 0.1, 0.05]:\n",
    "    tau = 1 / m\n",
    "    n = int(1 / h)\n",
    "    real_table = make_real_table(h, tau, m, n)\n",
    "    implicit_table = implicit_schema(h, tau, m, n, sigma)\n",
    "    delta = np.abs(real_table - implicit_table).max()\n",
    "    if h == 0.2:\n",
    "        rows.append([h, tau, delta, \"---\"])\n",
    "    else:\n",
    "        two_n = int(1 / (h * 2))\n",
    "        two_implicit_table = implicit_schema(2 * h, tau, m, two_n, sigma)\n",
    "        minimized_table = np.array([[implicit_table[k, i] for i in range(0, n + 1, 2)] for k in range(m + 1)])\n",
    "        two_delta = np.abs(two_implicit_table - minimized_table).max()\n",
    "        rows.append([h, tau, delta, two_delta])\n",
    "table = DataFrame(rows, columns=[\"h\", \"tau\", \"||J - u||\", \"||u(2h,tau) - u(h, tau)\"])\n",
    "table"
   ],
   "metadata": {
    "collapsed": false,
    "pycharm": {
     "name": "#%%\n"
    }
   }
  },
  {
   "cell_type": "markdown",
   "source": [
    "Таблица для неявной схемы с $\\sigma = 1$"
   ],
   "metadata": {
    "collapsed": false
   }
  },
  {
   "cell_type": "code",
   "execution_count": 9,
   "outputs": [
    {
     "data": {
      "text/plain": "      h   tau  ||J - u|| ||u(2h,tau) - u(h, tau)\n0  0.20  0.01   0.045518                     ---\n1  0.10  0.01   0.016245                 0.02929\n2  0.05  0.01   0.009097                 0.00716",
      "text/html": "<div>\n<style scoped>\n    .dataframe tbody tr th:only-of-type {\n        vertical-align: middle;\n    }\n\n    .dataframe tbody tr th {\n        vertical-align: top;\n    }\n\n    .dataframe thead th {\n        text-align: right;\n    }\n</style>\n<table border=\"1\" class=\"dataframe\">\n  <thead>\n    <tr style=\"text-align: right;\">\n      <th></th>\n      <th>h</th>\n      <th>tau</th>\n      <th>||J - u||</th>\n      <th>||u(2h,tau) - u(h, tau)</th>\n    </tr>\n  </thead>\n  <tbody>\n    <tr>\n      <th>0</th>\n      <td>0.20</td>\n      <td>0.01</td>\n      <td>0.045518</td>\n      <td>---</td>\n    </tr>\n    <tr>\n      <th>1</th>\n      <td>0.10</td>\n      <td>0.01</td>\n      <td>0.016245</td>\n      <td>0.02929</td>\n    </tr>\n    <tr>\n      <th>2</th>\n      <td>0.05</td>\n      <td>0.01</td>\n      <td>0.009097</td>\n      <td>0.00716</td>\n    </tr>\n  </tbody>\n</table>\n</div>"
     },
     "execution_count": 9,
     "metadata": {},
     "output_type": "execute_result"
    }
   ],
   "source": [
    "m = 100\n",
    "rows = []\n",
    "sigma = 1\n",
    "\n",
    "for h in [0.2, 0.1, 0.05]:\n",
    "    tau = 1 / m\n",
    "    n = int(1 / h)\n",
    "    real_table = make_real_table(h, tau, m, n)\n",
    "    implicit_table = implicit_schema(h, tau, m, n, sigma)\n",
    "    delta = np.abs(real_table - implicit_table).max()\n",
    "    if h == 0.2:\n",
    "        rows.append([h, tau, delta, \"---\"])\n",
    "    else:\n",
    "        two_n = int(1 / (h * 2))\n",
    "        two_implicit_table = implicit_schema(2 * h, tau, m, two_n, sigma)\n",
    "        minimized_table = np.array([[implicit_table[k, i] for i in range(0, n + 1, 2)] for k in range(m + 1)])\n",
    "        two_delta = np.abs(two_implicit_table - minimized_table).max()\n",
    "        rows.append([h, tau, delta, two_delta])\n",
    "table = DataFrame(rows, columns=[\"h\", \"tau\", \"||J - u||\", \"||u(2h,tau) - u(h, tau)\"])\n",
    "table"
   ],
   "metadata": {
    "collapsed": false,
    "pycharm": {
     "name": "#%%\n"
    }
   }
  }
 ],
 "metadata": {
  "kernelspec": {
   "display_name": "Python 3",
   "language": "python",
   "name": "python3"
  },
  "language_info": {
   "codemirror_mode": {
    "name": "ipython",
    "version": 2
   },
   "file_extension": ".py",
   "mimetype": "text/x-python",
   "name": "python",
   "nbconvert_exporter": "python",
   "pygments_lexer": "ipython2",
   "version": "2.7.6"
  }
 },
 "nbformat": 4,
 "nbformat_minor": 0
}